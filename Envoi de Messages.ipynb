{
 "cells": [
  {
   "cell_type": "code",
   "execution_count": 19,
   "metadata": {},
   "outputs": [],
   "source": [
    "import socket\n",
    "\n",
    "port = 1337\n",
    "ip = \"localhost\"\n",
    "buf_size = 4096\n",
    "\n",
    "s = socket.socket(socket.AF_INET, socket.SOCK_STREAM)\n",
    "\n",
    "s.connect((ip,port))\n",
    "s.setblocking(False)"
   ]
  },
  {
   "cell_type": "code",
   "execution_count": 5,
   "metadata": {},
   "outputs": [],
   "source": [
    "from time import sleep"
   ]
  },
  {
   "cell_type": "code",
   "execution_count": 2,
   "metadata": {},
   "outputs": [],
   "source": [
    "def sendMsg(msg,byte=False):\n",
    "#     s.send(bytes(msg, 'utf-8'))\n",
    "    if byte : s.send(msg)\n",
    "    else : s.send(msg.encode())\n",
    "    try: \n",
    "        sleep(1)\n",
    "        data = s.recv(buf_size)\n",
    "    except : \n",
    "        sleep(4)\n",
    "        data = s.recv(buf_size)\n",
    "#     print (msg,\" : \",data)\n",
    "    print (data)\n",
    "    try:\n",
    "        print (s.recv(4096))\n",
    "    except : \n",
    "        return\n"
   ]
  },
  {
   "cell_type": "code",
   "execution_count": 9,
   "metadata": {},
   "outputs": [
    {
     "name": "stdout",
     "output_type": "stream",
     "text": [
      "b'\\x00\\x03\\x00\\x00\\x00\\x12\\x01Unknown CMD'\n"
     ]
    }
   ],
   "source": [
    "sendMsg(\"\\x03\")"
   ]
  },
  {
   "cell_type": "code",
   "execution_count": 44,
   "metadata": {},
   "outputs": [
    {
     "data": {
      "text/plain": [
       "(4609,)"
      ]
     },
     "execution_count": 44,
     "metadata": {},
     "output_type": "execute_result"
    }
   ],
   "source": [
    "import struct\n",
    "res = b'\\x00\\x00\\x12\\x01'\n",
    "struct.unpack(\">I\",res)"
   ]
  },
  {
   "cell_type": "code",
   "execution_count": 55,
   "metadata": {},
   "outputs": [
    {
     "name": "stdout",
     "output_type": "stream",
     "text": [
      "b'\\x001\\x00\\x00\\x00\\x12\\x01Unknown CMD\\x000\\x00\\x00\\x00\\x12\\x01Unknown'\n"
     ]
    }
   ],
   "source": [
    "sendMsg(\"0x12\")"
   ]
  },
  {
   "cell_type": "code",
   "execution_count": 56,
   "metadata": {},
   "outputs": [
    {
     "data": {
      "text/plain": [
       "2"
      ]
     },
     "execution_count": 56,
     "metadata": {},
     "output_type": "execute_result"
    }
   ],
   "source": [
    "s.send(b'12')"
   ]
  },
  {
   "cell_type": "code",
   "execution_count": 102,
   "metadata": {},
   "outputs": [
    {
     "ename": "KeyboardInterrupt",
     "evalue": "",
     "output_type": "error",
     "traceback": [
      "\u001b[0;31m---------------------------------------------------------------------------\u001b[0m",
      "\u001b[0;31mKeyboardInterrupt\u001b[0m                         Traceback (most recent call last)",
      "\u001b[0;32m<ipython-input-102-ccf2f8c8ebc1>\u001b[0m in \u001b[0;36m<module>\u001b[0;34m\u001b[0m\n\u001b[0;32m----> 1\u001b[0;31m \u001b[0ms\u001b[0m\u001b[0;34m.\u001b[0m\u001b[0mrecv\u001b[0m\u001b[0;34m(\u001b[0m\u001b[0;36m4096\u001b[0m\u001b[0;34m)\u001b[0m\u001b[0;34m\u001b[0m\u001b[0;34m\u001b[0m\u001b[0m\n\u001b[0m",
      "\u001b[0;31mKeyboardInterrupt\u001b[0m: "
     ]
    }
   ],
   "source": [
    "s.recv(4096)"
   ]
  },
  {
   "cell_type": "code",
   "execution_count": 64,
   "metadata": {},
   "outputs": [
    {
     "name": "stdout",
     "output_type": "stream",
     "text": [
      "b'\\x00A\\x00\\x00\\x00\\x12\\x01Unknown CMD'\n"
     ]
    }
   ],
   "source": [
    "sendMsg(\"\\x08\")"
   ]
  },
  {
   "cell_type": "code",
   "execution_count": 99,
   "metadata": {
    "collapsed": true,
    "jupyter": {
     "outputs_hidden": true
    }
   },
   "outputs": [
    {
     "name": "stdout",
     "output_type": "stream",
     "text": [
      "b'\\x00'  :  b'\\x00\\x0f\\x00\\x00\\x00\\x12\\x01Unknown CMD'\n",
      "b'\\x01'  :  b'\\x00\\x00\\x00\\x00\\x00\\x12\\x01Unknown CMD'\n",
      "b'\\x02'  :  b'\\x00\\x01\\x00\\x00\\x00\\x18\\x04BAD PACKET LENGTH'\n",
      "b'\\x03'  :  b'\\x00\\x02\\x00\\x00\\x00\\x12\\x01Unknown CMD'\n",
      "b'\\x04'  :  b'\\x00\\x03\\x00\\x00\\x00\\x12\\x01Unknown CMD'\n",
      "b'\\x05'  :  b'\\x00\\x04\\x00\\x00\\x00\\x12\\x01Unknown CMD'\n",
      "b'\\x06'  :  b'\\x00\\x05\\x00\\x00\\x00\\x12\\x01Unknown CMD'\n",
      "b'\\x07'  :  b'\\x00\\x06\\x00\\x00\\x00\\x12\\x01Unknown CMD'\n",
      "b'\\x08'  :  b'\\x00\\x07\\x00\\x00\\x00\\x12\\x01Unknown CMD'\n",
      "b'\\t'  :  b'\\x00\\x08\\x00\\x00\\x00\\x12\\x01Unknown CMD'\n",
      "b'\\n'  :  b'\\x00\\t\\x00\\x00\\x00\\x12\\x01Unknown CMD'\n",
      "b'\\x0b'  :  b'\\x00\\n\\x00\\x00\\x00\\x12\\x01Unknown CMD'\n",
      "b'\\x0c'  :  b'\\x00\\x0b\\x00\\x00\\x00\\x12\\x01Unknown CMD'\n",
      "b'\\r'  :  b'\\x00\\x0c\\x00\\x00\\x00\\x12\\x01Unknown CMD'\n",
      "b'\\x0e'  :  b'\\x00\\r\\x00\\x00\\x00\\x12\\x01Unknown CMD'\n",
      "b'\\x0f'  :  b'\\x00\\x0e\\x00\\x00\\x00\\x12\\x01Unknown CMD'\n",
      "b'\\x10'  :  b'\\x00\\x0f\\x00\\x00\\x00\\x12\\x01Unknown CMD'\n",
      "b'\\x11'  :  b'\\x00\\x10\\x00\\x00\\x00\\x12\\x01Unknown CMD'\n",
      "b'\\x12'  :  b'\\x00\\x11\\x00\\x00\\x00\\x12\\x01Unknown CMD'\n",
      "b'\\x13'  :  b'\\x00\\x12\\x00\\x00\\x00\\x12\\x01Unknown CMD'\n",
      "b'\\x14'  :  b'\\x00\\x13\\x00\\x00\\x00\\x12\\x01Unknown CMD'\n",
      "b'\\x15'  :  b'\\x00\\x14\\x00\\x00\\x00\\x12\\x01Unknown CMD'\n",
      "b'\\x16'  :  b'\\x00\\x15\\x00\\x00\\x00\\x12\\x01Unknown CMD'\n",
      "b'\\x17'  :  b'\\x00\\x16\\x00\\x00\\x00\\x12\\x01Unknown CMD'\n",
      "b'\\x18'  :  b'\\x00\\x17\\x00\\x00\\x00\\x12\\x01Unknown CMD'\n",
      "b'\\x19'  :  b'\\x00\\x18\\x00\\x00\\x00\\x12\\x01Unknown CMD'\n",
      "b'\\x1a'  :  b'\\x00\\x19\\x00\\x00\\x00\\x12\\x01Unknown CMD'\n",
      "b'\\x1b'  :  b'\\x00\\x1a\\x00\\x00\\x00\\x12\\x01Unknown CMD'\n",
      "b'\\x1c'  :  b'\\x00\\x1b\\x00\\x00\\x00\\x12\\x01Unknown CMD'\n",
      "b'\\x1d'  :  b'\\x00\\x1c\\x00\\x00\\x00\\x12\\x01Unknown CMD'\n",
      "b'\\x1e'  :  b'\\x00\\x1d\\x00\\x00\\x00\\x12\\x01Unknown CMD'\n",
      "b'\\x1f'  :  b'\\x00\\x1e\\x00\\x00\\x00\\x12\\x01Unknown CMD'\n",
      "b' '  :  b'\\x00\\x1f\\x00\\x00\\x00\\x12\\x01Unknown CMD'\n",
      "b'!'  :  b'\\x00 \\x00\\x00\\x00\\x12\\x01Unknown CMD'\n",
      "b'\"'  :  b'\\x00!\\x00\\x00\\x00\\x12\\x01Unknown CMD'\n",
      "b'#'  :  b'\\x00\"\\x00\\x00\\x00\\x12\\x01Unknown CMD'\n",
      "b'$'  :  b'\\x00#\\x00\\x00\\x00\\x12\\x01Unknown CMD'\n",
      "b'%'  :  b'\\x00$\\x00\\x00\\x00\\x12\\x01Unknown CMD'\n",
      "b'&'  :  b'\\x00%\\x00\\x00\\x00\\x18\\x04BAD PACKET LENGTH'\n",
      "b\"'\"  :  b'\\x00&\\x00\\x00\\x00\\x12\\x01Unknown CMD'\n",
      "b'('  :  b\"\\x00'\\x00\\x00\\x00\\x12\\x01Unknown CMD\"\n",
      "b')'  :  b'\\x00(\\x00\\x00\\x00\\x12\\x01Unknown CMD'\n",
      "b'*'  :  b'\\x00)\\x00\\x00\\x00\\x12\\x01Unknown CMD'\n",
      "b'+'  :  b'\\x00*\\x00\\x00\\x00\\x15\\x07COMMAND LOCKED'\n",
      "b','  :  b'\\x00+\\x00\\x00\\x00\\x12\\x01Unknown CMD'\n",
      "b'-'  :  b'\\x00,\\x00\\x00\\x00\\x12\\x01Unknown CMD'\n",
      "b'.'  :  b'\\x00-\\x00\\x00\\x00\\x12\\x01Unknown CMD'\n",
      "b'/'  :  b'\\x00.\\x00\\x00\\x00\\x12\\x01Unknown CMD'\n",
      "b'0'  :  b'\\x00/\\x00\\x00\\x00\\x12\\x01Unknown CMD'\n",
      "b'1'  :  b'\\x000\\x00\\x00\\x00\\x12\\x01Unknown CMD'\n",
      "b'2'  :  b'\\x001\\x00\\x00\\x00\\x12\\x01Unknown CMD'\n",
      "b'3'  :  b'\\x002\\x00\\x00\\x00\\x12\\x01Unknown CMD'\n",
      "b'4'  :  b'\\x003\\x00\\x00\\x00\\x12\\x01Unknown CMD'\n",
      "b'5'  :  b'\\x004\\x00\\x00\\x00\\x12\\x01Unknown CMD'\n",
      "b'6'  :  b'\\x005\\x00\\x00\\x00\\x12\\x01Unknown CMD'\n",
      "b'7'  :  b'\\x006\\x00\\x00\\x00\\x12\\x01Unknown CMD'\n",
      "b'8'  :  b'\\x007\\x00\\x00\\x00\\x12\\x01Unknown CMD'\n",
      "b'9'  :  b'\\x008\\x00\\x00\\x00\\x12\\x01Unknown CMD'\n",
      "b':'  :  b'\\x009\\x00\\x00\\x00\\x12\\x01Unknown CMD'\n",
      "b';'  :  b'\\x00:\\x00\\x00\\x00\\x12\\x01Unknown CMD'\n",
      "b'<'  :  b'\\x00;\\x00\\x00\\x00\\x12\\x01Unknown CMD'\n",
      "b'='  :  b'\\x00<\\x00\\x00\\x00\\x12\\x01Unknown CMD'\n",
      "b'>'  :  b'\\x00=\\x00\\x00\\x00\\x12\\x01Unknown CMD'\n",
      "b'?'  :  b'\\x00>\\x00\\x00\\x00\\x12\\x01Unknown CMD'\n",
      "b'@'  :  b'\\x00?\\x00\\x00\\x00\\x12\\x01Unknown CMD'\n",
      "b'A'  :  b'\\x00@\\x00\\x00\\x00\\x15\\x07COMMAND LOCKED'\n",
      "b'B'  :  b'\\x00A\\x00\\x00\\x00\\x12\\x01Unknown CMD'\n",
      "b'C'  :  b'\\x00B\\x00\\x00\\x00\\x12\\x01Unknown CMD'\n",
      "b'D'  :  b'\\x00C\\x00\\x00\\x00\\x12\\x01Unknown CMD'\n",
      "b'E'  :  b'\\x00D\\x00\\x00\\x00\\x12\\x01Unknown CMD'\n",
      "b'F'  :  b'\\x00E\\x00\\x00\\x00\\x12\\x01Unknown CMD'\n",
      "b'G'  :  b'\\x00F\\x00\\x00\\x00\\x12\\x01Unknown CMD'\n",
      "b'H'  :  b'\\x00G\\x00\\x00\\x00\\x12\\x01Unknown CMD'\n",
      "b'I'  :  b'\\x00H\\x00\\x00\\x00\\x12\\x01Unknown CMD'\n",
      "b'J'  :  b'\\x00I\\x00\\x00\\x00\\x12\\x01Unknown CMD'\n",
      "b'K'  :  b'\\x00J\\x00\\x00\\x00\\x12\\x01Unknown CMD'\n",
      "b'L'  :  b'\\x00K\\x00\\x00\\x00\\x12\\x01Unknown CMD'\n",
      "b'M'  :  b'\\x00L\\x00\\x00\\x00\\x12\\x01Unknown CMD'\n",
      "b'N'  :  b'\\x00M\\x00\\x00\\x00\\x12\\x01Unknown CMD'\n",
      "b'O'  :  b'\\x00N\\x00\\x00\\x00\\x12\\x01Unknown CMD'\n",
      "b'P'  :  b'\\x00O\\x00\\x00\\x00\\x12\\x01Unknown CMD'\n",
      "b'Q'  :  b'\\x00P\\x00\\x00\\x00\\x12\\x01Unknown CMD'\n",
      "b'R'  :  b'\\x00Q\\x00\\x00\\x00\\x12\\x01Unknown CMD'\n",
      "b'S'  :  b'\\x00R\\x00\\x00\\x00\\x12\\x01Unknown CMD'\n",
      "b'T'  :  b'\\x00S\\x00\\x00\\x00\\x12\\x01Unknown CMD'\n",
      "b'U'  :  b'\\x00T\\x00\\x00\\x00\\x12\\x01Unknown CMD'\n",
      "b'V'  :  b'\\x00U\\x00\\x00\\x00\\x12\\x01Unknown CMD'\n",
      "b'W'  :  b'\\x00V\\x00\\x00\\x00\\x12\\x01Unknown CMD'\n",
      "b'X'  :  b'\\x00W\\x00\\x00\\x00\\x12\\x01Unknown CMD'\n",
      "b'Y'  :  b'\\x00X\\x00\\x00\\x00\\x12\\x01Unknown CMD'\n",
      "b'Z'  :  b'\\x00Y\\x00\\x00\\x00\\x12\\x01Unknown CMD'\n",
      "b'['  :  b'\\x00Z\\x00\\x00\\x00\\x12\\x01Unknown CMD'\n",
      "b'\\\\'  :  b'\\x00[\\x00\\x00\\x00\\x12\\x01Unknown CMD'\n",
      "b']'  :  b'\\x00\\\\\\x00\\x00\\x00\\x12\\x01Unknown CMD'\n",
      "b'^'  :  b'\\x00]\\x00\\x00\\x00\\x12\\x01Unknown CMD'\n",
      "b'_'  :  b'\\x00^\\x00\\x00\\x00\\x12\\x01Unknown CMD'\n",
      "b'`'  :  b'\\x00_\\x00\\x00\\x00\\x12\\x01Unknown CMD'\n",
      "b'a'  :  b'\\x00`\\x00\\x00\\x00\\x12\\x01Unknown CMD'\n",
      "b'b'  :  b'\\x00a\\x00\\x00\\x00\\x12\\x01Unknown CMD'\n",
      "b'c'  :  b'\\x00b\\x00\\x00\\x00\\x12\\x01Unknown CMD'\n",
      "b'd'  :  b'\\x00c\\x00\\x00\\x00\\x12\\x01Unknown CMD'\n",
      "b'e'  :  b'\\x00d\\x00\\x00\\x00\\x12\\x01Unknown CMD'\n",
      "b'f'  :  b'\\x00e\\x00\\x00\\x00\\x12\\x01Unknown CMD'\n",
      "b'g'  :  b'\\x00f\\x00\\x00\\x00\\x12\\x01Unknown CMD'\n",
      "b'h'  :  b'\\x00g\\x00\\x00\\x00\\x12\\x01Unknown CMD'\n",
      "b'i'  :  b'\\x00h\\x00\\x00\\x00\\x12\\x01Unknown CMD'\n",
      "b'j'  :  b'\\x00i\\x00\\x00\\x00\\x12\\x01Unknown CMD'\n",
      "b'k'  :  b'\\x00j\\x00\\x00\\x00\\x12\\x01Unknown CMD'\n",
      "b'l'  :  b'\\x00k\\x00\\x00\\x00\\x12\\x01Unknown CMD'\n",
      "b'm'  :  b'\\x00l\\x00\\x00\\x00\\x12\\x01Unknown CMD'\n",
      "b'n'  :  b'\\x00m\\x00\\x00\\x00\\x12\\x01Unknown CMD'\n",
      "b'o'  :  b'\\x00n\\x00\\x00\\x00\\x12\\x01Unknown CMD'\n",
      "b'p'  :  b'\\x00o\\x00\\x00\\x00\\x12\\x01Unknown CMD'\n",
      "b'q'  :  b'\\x00p\\x00\\x00\\x00\\x12\\x01Unknown CMD'\n",
      "b'r'  :  b'\\x00q\\x00\\x00\\x00\\x12\\x01Unknown CMD'\n",
      "b's'  :  b'\\x00r\\x00\\x00\\x00\\x12\\x01Unknown CMD'\n",
      "b't'  :  b'\\x00s\\x00\\x00\\x00\\x12\\x01Unknown CMD'\n",
      "b'u'  :  b'\\x00t\\x00\\x00\\x00\\x12\\x01Unknown CMD'\n",
      "b'v'  :  b'\\x00u\\x00\\x00\\x00\\x12\\x01Unknown CMD'\n",
      "b'w'  :  b'\\x00v\\x00\\x00\\x00\\x12\\x01Unknown CMD'\n",
      "b'x'  :  b'\\x00w\\x00\\x00\\x00\\x12\\x01Unknown CMD'\n",
      "b'y'  :  b'\\x00x\\x00\\x00\\x00\\x12\\x01Unknown CMD'\n",
      "b'z'  :  b'\\x00y\\x00\\x00\\x00\\x12\\x01Unknown CMD'\n",
      "b'{'  :  b'\\x00z\\x00\\x00\\x00\\x12\\x01Unknown CMD'\n",
      "b'|'  :  b'\\x00{\\x00\\x00\\x00\\x12\\x01Unknown CMD'\n",
      "b'}'  :  b'\\x00|\\x00\\x00\\x00\\x12\\x01Unknown CMD'\n",
      "b'~'  :  b'\\x00}\\x00\\x00\\x00\\x12\\x01Unknown CMD'\n",
      "b'\\x7f'  :  b'\\x00~\\x00\\x00\\x00\\x12\\x01Unknown CMD'\n",
      "b'\\x80'  :  b'\\x00\\x7f\\x00\\x00\\x00\\x12\\x01Unknown CMD'\n",
      "b'\\x81'  :  b'\\x00\\x80\\x00\\x00\\x00\\x12\\x01Unknown CMD'\n",
      "b'\\x82'  :  b'\\x00\\x81\\x00\\x00\\x00\\x12\\x01Unknown CMD'\n",
      "b'\\x83'  :  b'\\x00\\x82\\x00\\x00\\x00\\x12\\x01Unknown CMD'\n",
      "b'\\x84'  :  b'\\x00\\x83\\x00\\x00\\x00\\x12\\x01Unknown CMD'\n",
      "b'\\x85'  :  b'\\x00\\x84\\x00\\x00\\x00\\x12\\x01Unknown CMD'\n",
      "b'\\x86'  :  b'\\x00\\x85\\x00\\x00\\x00\\x12\\x01Unknown CMD'\n",
      "b'\\x87'  :  b'\\x00\\x86\\x00\\x00\\x00\\x12\\x01Unknown CMD'\n",
      "b'\\x88'  :  b'\\x00\\x87\\x00\\x00\\x00\\x12\\x01Unknown CMD'\n",
      "b'\\x89'  :  b'\\x00\\x88\\x00\\x00\\x00\\x12\\x01Unknown CMD'\n",
      "b'\\x8a'  :  b'\\x00\\x89\\x00\\x00\\x00\\x12\\x01Unknown CMD'\n",
      "b'\\x8b'  :  b'\\x00\\x8a\\x00\\x00\\x00\\x12\\x01Unknown CMD'\n",
      "b'\\x8c'  :  b'\\x00\\x8b\\x00\\x00\\x00\\x12\\x01Unknown CMD'\n",
      "b'\\x8d'  :  b'\\x00\\x8c\\x00\\x00\\x00\\x12\\x01Unknown CMD'\n",
      "b'\\x8e'  :  b'\\x00\\x8d\\x00\\x00\\x00\\x12\\x01Unknown CMD'\n",
      "b'\\x8f'  :  b'\\x00\\x8e\\x00\\x00\\x00\\x12\\x01Unknown CMD'\n",
      "b'\\x90'  :  b'\\x00\\x8f\\x00\\x00\\x00\\x12\\x01Unknown CMD'\n",
      "b'\\x91'  :  b'\\x00\\x90\\x00\\x00\\x00\\x12\\x01Unknown CMD'\n",
      "b'\\x92'  :  b'\\x00\\x91\\x00\\x00\\x00\\x12\\x01Unknown CMD'\n",
      "b'\\x93'  :  b'\\x00\\x92\\x00\\x00\\x00\\x12\\x01Unknown CMD'\n",
      "b'\\x94'  :  b'\\x00\\x93\\x00\\x00\\x00\\x12\\x01Unknown CMD'\n",
      "b'\\x95'  :  b'\\x00\\x94\\x00\\x00\\x00\\x12\\x01Unknown CMD'\n",
      "b'\\x96'  :  b'\\x00\\x95\\x00\\x00\\x00\\x12\\x01Unknown CMD'\n",
      "b'\\x97'  :  b'\\x00\\x96\\x00\\x00\\x00\\x12\\x01Unknown CMD'\n",
      "b'\\x98'  :  b'\\x00\\x97\\x00\\x00\\x00\\x12\\x01Unknown CMD'\n",
      "b'\\x99'  :  b'\\x00\\x98\\x00\\x00\\x00\\x12\\x01Unknown CMD'\n",
      "b'\\x9a'  :  b'\\x00\\x99\\x00\\x00\\x00\\x12\\x01Unknown CMD'\n",
      "b'\\x9b'  :  b'\\x00\\x9a\\x00\\x00\\x00\\x12\\x01Unknown CMD'\n",
      "b'\\x9c'  :  b'\\x00\\x9b\\x00\\x00\\x00\\x12\\x01Unknown CMD'\n",
      "b'\\x9d'  :  b'\\x00\\x9c\\x00\\x00\\x00\\x12\\x01Unknown CMD'\n",
      "b'\\x9e'  :  b'\\x00\\x9d\\x00\\x00\\x00\\x12\\x01Unknown CMD'\n",
      "b'\\x9f'  :  b'\\x00\\x9e\\x00\\x00\\x00\\x12\\x01Unknown CMD'\n",
      "b'\\xa0'  :  b'\\x00\\x9f\\x00\\x00\\x00\\x12\\x01Unknown CMD'\n",
      "b'\\xa1'  :  b'\\x00\\xa0\\x00\\x00\\x00\\x12\\x01Unknown CMD'\n",
      "b'\\xa2'  :  b'\\x00\\xa1\\x00\\x00\\x00\\x12\\x01Unknown CMD'\n",
      "b'\\xa3'  :  b'\\x00\\xa2\\x00\\x00\\x00\\x12\\x01Unknown CMD'\n",
      "b'\\xa4'  :  b'\\x00\\xa3\\x00\\x00\\x00\\x12\\x01Unknown CMD'\n",
      "b'\\xa5'  :  b'\\x00\\xa4\\x00\\x00\\x00\\x12\\x01Unknown CMD'\n",
      "b'\\xa6'  :  b'\\x00\\xa5\\x00\\x00\\x00\\x12\\x01Unknown CMD'\n",
      "b'\\xa7'  :  b'\\x00\\xa6\\x00\\x00\\x00\\x12\\x01Unknown CMD'\n",
      "b'\\xa8'  :  b'\\x00\\xa7\\x00\\x00\\x00\\x12\\x01Unknown CMD'\n",
      "b'\\xa9'  :  b'\\x00\\xa8\\x00\\x00\\x00\\x12\\x01Unknown CMD'\n",
      "b'\\xaa'  :  b'\\x00\\xa9\\x00\\x00\\x00\\x12\\x01Unknown CMD'\n",
      "b'\\xab'  :  b'\\x00\\xaa\\x00\\x00\\x00\\x12\\x01Unknown CMD'\n",
      "b'\\xac'  :  b'\\x00\\xab\\x00\\x00\\x00\\x12\\x01Unknown CMD'\n",
      "b'\\xad'  :  b'\\x00\\xac\\x00\\x00\\x00\\x18\\x04BAD PACKET LENGTH'\n",
      "b'\\xae'  :  b'\\x00\\xad\\x00\\x00\\x00\\x12\\x01Unknown CMD'\n",
      "b'\\xaf'  :  b'\\x00\\xae\\x00\\x00\\x00\\x12\\x01Unknown CMD'\n",
      "b'\\xb0'  :  b'\\x00\\xaf\\x00\\x00\\x00\\x12\\x01Unknown CMD'\n",
      "b'\\xb1'  :  b'\\x00\\xb0\\x00\\x00\\x00\\x12\\x01Unknown CMD'\n",
      "b'\\xb2'  :  b'\\x00\\xb1\\x00\\x00\\x00\\x12\\x01Unknown CMD'\n",
      "b'\\xb3'  :  b'\\x00\\xb2\\x00\\x00\\x00\\x12\\x01Unknown CMD'\n",
      "b'\\xb4'  :  b'\\x00\\xb3\\x00\\x00\\x00\\x12\\x01Unknown CMD'\n",
      "b'\\xb5'  :  b'\\x00\\xb4\\x00\\x00\\x00\\x12\\x01Unknown CMD'\n",
      "b'\\xb6'  :  b'\\x00\\xb5\\x00\\x00\\x00\\x12\\x01Unknown CMD'\n",
      "b'\\xb7'  :  b'\\x00\\xb6\\x00\\x00\\x00\\x12\\x01Unknown CMD'\n",
      "b'\\xb8'  :  b'\\x00\\xb7\\x00\\x00\\x00\\x12\\x01Unknown CMD'\n",
      "b'\\xb9'  :  b'\\x00\\xb8\\x00\\x00\\x00\\x12\\x01Unknown CMD'\n",
      "b'\\xba'  :  b'\\x00\\xb9\\x00\\x00\\x00\\x12\\x01Unknown CMD'\n",
      "b'\\xbb'  :  b'\\x00\\xba\\x00\\x00\\x00\\x12\\x01Unknown CMD'\n",
      "b'\\xbc'  :  b'\\x00\\xbb\\x00\\x00\\x00\\x12\\x01Unknown CMD'\n",
      "b'\\xbd'  :  b'\\x00\\xbc\\x00\\x00\\x00\\x12\\x01Unknown CMD'\n",
      "b'\\xbe'  :  b'\\x00\\xbd\\x00\\x00\\x00\\x12\\x01Unknown CMD'\n",
      "b'\\xbf'  :  b'\\x00\\xbe\\x00\\x00\\x00\\x12\\x01Unknown CMD'\n",
      "b'\\xc0'  :  b'\\x00\\xbf\\x00\\x00\\x00\\x12\\x01Unknown CMD'\n",
      "b'\\xc1'  :  b'\\x00\\xc0\\x00\\x00\\x00\\x12\\x01Unknown CMD'\n",
      "b'\\xc2'  :  b'\\x00\\xc1\\x00\\x00\\x00\\x12\\x01Unknown CMD'\n",
      "b'\\xc3'  :  b'\\x00\\xc2\\x00\\x00\\x00\\x12\\x01Unknown CMD'\n",
      "b'\\xc4'  :  b'\\x00\\xc3\\x00\\x00\\x00\\x12\\x01Unknown CMD'\n",
      "b'\\xc5'  :  b'\\x00\\xc4\\x00\\x00\\x00\\x12\\x01Unknown CMD'\n",
      "b'\\xc6'  :  b'\\x00\\xc5\\x00\\x00\\x00\\x12\\x01Unknown CMD'\n",
      "b'\\xc7'  :  b'\\x00\\xc6\\x00\\x00\\x00\\x12\\x01Unknown CMD'\n",
      "b'\\xc8'  :  b'\\x00\\xc7\\x00\\x00\\x00\\x12\\x01Unknown CMD'\n",
      "b'\\xc9'  :  b'\\x00\\xc8\\x00\\x00\\x00\\x12\\x01Unknown CMD'\n",
      "b'\\xca'  :  b'\\x00\\xc9\\x00\\x00\\x00\\x12\\x01Unknown CMD'\n",
      "b'\\xcb'  :  b'\\x00\\xca\\x00\\x00\\x00\\x12\\x01Unknown CMD'\n",
      "b'\\xcc'  :  b'\\x00\\xcb\\x00\\x00\\x00\\x12\\x01Unknown CMD'\n",
      "b'\\xcd'  :  b'\\x00\\xcc\\x00\\x00\\x00\\x12\\x01Unknown CMD'\n",
      "b'\\xce'  :  b'\\x00\\xcd\\x00\\x00\\x00\\x12\\x01Unknown CMD'\n",
      "b'\\xcf'  :  b'\\x00\\xce\\x00\\x00\\x00\\x12\\x01Unknown CMD'\n",
      "b'\\xd0'  :  b'\\x00\\xcf\\x00\\x00\\x00\\x12\\x01Unknown CMD'\n",
      "b'\\xd1'  :  b'\\x00\\xd0\\x00\\x00\\x00\\x12\\x01Unknown CMD'\n",
      "b'\\xd2'  :  b'\\x00\\xd1\\x00\\x00\\x00\\x12\\x01Unknown CMD'\n",
      "b'\\xd3'  :  b'\\x00\\xd2\\x00\\x00\\x00\\x12\\x01Unknown CMD'\n",
      "b'\\xd4'  :  b'\\x00\\xd3\\x00\\x00\\x00\\x12\\x01Unknown CMD'\n",
      "b'\\xd5'  :  b'\\x00\\xd4\\x00\\x00\\x00\\x12\\x01Unknown CMD'\n",
      "b'\\xd6'  :  b'\\x00\\xd5\\x00\\x00\\x00\\x12\\x01Unknown CMD'\n",
      "b'\\xd7'  :  b'\\x00\\xd6\\x00\\x00\\x00\\x12\\x01Unknown CMD'\n",
      "b'\\xd8'  :  b'\\x00\\xd7\\x00\\x00\\x00\\x12\\x01Unknown CMD'\n",
      "b'\\xd9'  :  b'\\x00\\xd8\\x00\\x00\\x00\\x12\\x01Unknown CMD'\n",
      "b'\\xda'  :  b'\\x00\\xd9\\x00\\x00\\x00\\x12\\x01Unknown CMD'\n",
      "b'\\xdb'  :  b'\\x00\\xda\\x00\\x00\\x00\\x12\\x01Unknown CMD'\n",
      "b'\\xdc'  :  b'\\x00\\xdb\\x00\\x00\\x00\\x12\\x01Unknown CMD'\n",
      "b'\\xdd'  :  b'\\x00\\xdc\\x00\\x00\\x00\\x12\\x01Unknown CMD'\n",
      "b'\\xde'  :  b'\\x00\\xdd\\x00\\x00\\x00\\x12\\x01Unknown CMD'\n",
      "b'\\xdf'  :  b'\\x00\\xde\\x00\\x00\\x00\\x12\\x01Unknown CMD'\n",
      "b'\\xe0'  :  b'\\x00\\xdf\\x00\\x00\\x00\\x12\\x01Unknown CMD'\n",
      "b'\\xe1'  :  b'\\x00\\xe0\\x00\\x00\\x00\\x12\\x01Unknown CMD'\n",
      "b'\\xe2'  :  b'\\x00\\xe1\\x00\\x00\\x00\\x12\\x01Unknown CMD'\n",
      "b'\\xe3'  :  b'\\x00\\xe2\\x00\\x00\\x00\\x12\\x01Unknown CMD'\n",
      "b'\\xe4'  :  b'\\x00\\xe3\\x00\\x00\\x00\\x12\\x01Unknown CMD'\n",
      "b'\\xe5'  :  b'\\x00\\xe4\\x00\\x00\\x00\\x12\\x01Unknown CMD'\n",
      "b'\\xe6'  :  b'\\x00\\xe5\\x00\\x00\\x00\\x12\\x01Unknown CMD'\n",
      "b'\\xe7'  :  b'\\x00\\xe6\\x00\\x00\\x00\\x12\\x01Unknown CMD'\n",
      "b'\\xe8'  :  b'\\x00\\xe7\\x00\\x00\\x00\\x12\\x01Unknown CMD'\n",
      "b'\\xe9'  :  b'\\x00\\xe8\\x00\\x00\\x00\\x12\\x01Unknown CMD'\n",
      "b'\\xea'  :  b'\\x00\\xe9\\x00\\x00\\x00\\x12\\x01Unknown CMD'\n",
      "b'\\xeb'  :  b'\\x00\\xea\\x00\\x00\\x00\\x12\\x01Unknown CMD'\n",
      "b'\\xec'  :  b'\\x00\\xeb\\x00\\x00\\x00\\x12\\x01Unknown CMD'\n",
      "b'\\xed'  :  b'\\x00\\xec\\x00\\x00\\x00\\x12\\x01Unknown CMD'\n",
      "b'\\xee'  :  b'\\x00\\xed\\x00\\x00\\x00\\x12\\x01Unknown CMD'\n",
      "b'\\xef'  :  b'\\x00\\xee\\x00\\x00\\x00\\x12\\x01Unknown CMD'\n",
      "b'\\xf0'  :  b'\\x00\\xef\\x00\\x00\\x00\\x12\\x01Unknown CMD'\n",
      "b'\\xf1'  :  b'\\x00\\xf0\\x00\\x00\\x00\\x12\\x01Unknown CMD'\n",
      "b'\\xf2'  :  b'\\x00\\xf1\\x00\\x00\\x00\\x12\\x01Unknown CMD'\n",
      "b'\\xf3'  :  b'\\x00\\xf2\\x00\\x00\\x00\\x12\\x01Unknown CMD'\n",
      "b'\\xf4'  :  b'\\x00\\xf3\\x00\\x00\\x00\\x12\\x01Unknown CMD'\n",
      "b'\\xf5'  :  b'\\x00\\xf4\\x00\\x00\\x00\\x12\\x01Unknown CMD'\n",
      "b'\\xf6'  :  b'\\x00\\xf5\\x00\\x00\\x00\\x12\\x01Unknown CMD'\n",
      "b'\\xf7'  :  b'\\x00\\xf6\\x00\\x00\\x00\\x12\\x01Unknown CMD'\n",
      "b'\\xf8'  :  b'\\x00\\xf7\\x00\\x00\\x00\\x12\\x01Unknown CMD'\n",
      "b'\\xf9'  :  b'\\x00\\xf8\\x00\\x00\\x00\\x12\\x01Unknown CMD'\n",
      "b'\\xfa'  :  b'\\x00\\xf9\\x00\\x00\\x00\\x12\\x01Unknown CMD'\n",
      "b'\\xfb'  :  b'\\x00\\xfa\\x00\\x00\\x00\\x12\\x01Unknown CMD'\n",
      "b'\\xfc'  :  b'\\x00\\xfb\\x00\\x00\\x00\\x12\\x01Unknown CMD'\n",
      "b'\\xfd'  :  b'\\x00\\xfc\\x00\\x00\\x00\\x12\\x01Unknown CMD'\n",
      "b'\\xfe'  :  b'\\x00\\xfd\\x00\\x00\\x00\\x12\\x01Unknown CMD'\n",
      "b'\\xff'  :  b'\\x00\\xfe\\x00\\x00\\x00\\x12\\x01Unknown CMD'\n"
     ]
    }
   ],
   "source": [
    "for i in range(256):\n",
    "    sendMsg(i.to_bytes(1,'little'), True)\n",
    "    sleep(1)"
   ]
  },
  {
   "cell_type": "code",
   "execution_count": 105,
   "metadata": {},
   "outputs": [
    {
     "ename": "KeyboardInterrupt",
     "evalue": "",
     "output_type": "error",
     "traceback": [
      "\u001b[0;31m---------------------------------------------------------------------------\u001b[0m",
      "\u001b[0;31mKeyboardInterrupt\u001b[0m                         Traceback (most recent call last)",
      "\u001b[0;32m<ipython-input-105-5614426ced6c>\u001b[0m in \u001b[0;36m<module>\u001b[0;34m\u001b[0m\n\u001b[1;32m      1\u001b[0m \u001b[0;32mfrom\u001b[0m \u001b[0mtime\u001b[0m \u001b[0;32mimport\u001b[0m \u001b[0msleep\u001b[0m\u001b[0;34m\u001b[0m\u001b[0;34m\u001b[0m\u001b[0m\n\u001b[1;32m      2\u001b[0m \u001b[0;32mfor\u001b[0m \u001b[0mi\u001b[0m \u001b[0;32min\u001b[0m \u001b[0mrange\u001b[0m\u001b[0;34m(\u001b[0m\u001b[0;36m30\u001b[0m\u001b[0;34m)\u001b[0m\u001b[0;34m:\u001b[0m\u001b[0;34m\u001b[0m\u001b[0;34m\u001b[0m\u001b[0m\n\u001b[0;32m----> 3\u001b[0;31m     \u001b[0msendMsg\u001b[0m\u001b[0;34m(\u001b[0m\u001b[0;34m\"\\x30\\x35\\x30\"\u001b[0m\u001b[0;34m)\u001b[0m\u001b[0;34m\u001b[0m\u001b[0;34m\u001b[0m\u001b[0m\n\u001b[0m\u001b[1;32m      4\u001b[0m     \u001b[0msleep\u001b[0m\u001b[0;34m(\u001b[0m\u001b[0;36m1\u001b[0m\u001b[0;34m)\u001b[0m\u001b[0;34m\u001b[0m\u001b[0;34m\u001b[0m\u001b[0m\n",
      "\u001b[0;32m<ipython-input-104-a50daaf495ad>\u001b[0m in \u001b[0;36msendMsg\u001b[0;34m(msg, byte)\u001b[0m\n\u001b[1;32m      3\u001b[0m     \u001b[0;32mif\u001b[0m \u001b[0mbyte\u001b[0m \u001b[0;34m:\u001b[0m \u001b[0ms\u001b[0m\u001b[0;34m.\u001b[0m\u001b[0msend\u001b[0m\u001b[0;34m(\u001b[0m\u001b[0mmsg\u001b[0m\u001b[0;34m)\u001b[0m\u001b[0;34m\u001b[0m\u001b[0;34m\u001b[0m\u001b[0m\n\u001b[1;32m      4\u001b[0m     \u001b[0;32melse\u001b[0m \u001b[0;34m:\u001b[0m \u001b[0ms\u001b[0m\u001b[0;34m.\u001b[0m\u001b[0msend\u001b[0m\u001b[0;34m(\u001b[0m\u001b[0mmsg\u001b[0m\u001b[0;34m.\u001b[0m\u001b[0mencode\u001b[0m\u001b[0;34m(\u001b[0m\u001b[0;34m)\u001b[0m\u001b[0;34m)\u001b[0m\u001b[0;34m\u001b[0m\u001b[0;34m\u001b[0m\u001b[0m\n\u001b[0;32m----> 5\u001b[0;31m     \u001b[0mdata\u001b[0m \u001b[0;34m=\u001b[0m \u001b[0ms\u001b[0m\u001b[0;34m.\u001b[0m\u001b[0mrecv\u001b[0m\u001b[0;34m(\u001b[0m\u001b[0mbuf_size\u001b[0m\u001b[0;34m)\u001b[0m\u001b[0;34m\u001b[0m\u001b[0;34m\u001b[0m\u001b[0m\n\u001b[0m\u001b[1;32m      6\u001b[0m     \u001b[0mprint\u001b[0m \u001b[0;34m(\u001b[0m\u001b[0mmsg\u001b[0m\u001b[0;34m,\u001b[0m\u001b[0;34m\" : \"\u001b[0m\u001b[0;34m,\u001b[0m\u001b[0mdata\u001b[0m\u001b[0;34m)\u001b[0m\u001b[0;34m\u001b[0m\u001b[0;34m\u001b[0m\u001b[0m\n",
      "\u001b[0;31mKeyboardInterrupt\u001b[0m: "
     ]
    }
   ],
   "source": [
    "from time import sleep\n",
    "for i in range(30):\n",
    "    sendMsg(\"\\x30\\x35\\x30\")\n",
    "    sleep(1)"
   ]
  },
  {
   "cell_type": "code",
   "execution_count": 181,
   "metadata": {},
   "outputs": [
    {
     "name": "stdout",
     "output_type": "stream",
     "text": [
      "\u0001¬  :  b'\\x00\\x01\\x00\\x00\\x00\\x18\\x04BAD PACKET LENGTH'\n",
      "\u0001¬  :  b'\\x00\\x01\\x00\\x00\\x00\\x18\\x04BAD PACKET LENGTH'\n",
      "\u0001¬  :  b'\\x00\\x01\\x00\\x00\\x00\\x18\\x04BAD PACKET LENGTH'\n",
      "\u0001¬  :  b'\\x00\\x01\\x00\\x00\\x00\\x18\\x04BAD PACKET LENGTH'\n",
      "\u0001¬  :  b'\\x00\\x01\\x00\\x00\\x00\\x18\\x04BAD PACKET LENGTH'\n"
     ]
    }
   ],
   "source": [
    "for i in range(5):\n",
    "    sendMsg(\"\\x01\\xac\")\n",
    "    sleep(1)"
   ]
  },
  {
   "cell_type": "code",
   "execution_count": 233,
   "metadata": {},
   "outputs": [
    {
     "name": "stdout",
     "output_type": "stream",
     "text": [
      "Exception\n"
     ]
    }
   ],
   "source": [
    "try:\n",
    "    print (s.recv(4096))\n",
    "except:\n",
    "    print (\"Exception\")"
   ]
  },
  {
   "cell_type": "code",
   "execution_count": 192,
   "metadata": {},
   "outputs": [
    {
     "data": {
      "text/plain": [
       "4"
      ]
     },
     "execution_count": 192,
     "metadata": {},
     "output_type": "execute_result"
    }
   ],
   "source": [
    "s.send(b\"test\")"
   ]
  },
  {
   "cell_type": "code",
   "execution_count": 21,
   "metadata": {},
   "outputs": [
    {
     "name": "stdout",
     "output_type": "stream",
     "text": [
      "b'\\x00@\\x00\\x00\\x00\\x15\\x07COMMAND LOCKED'\n"
     ]
    }
   ],
   "source": [
    "sendMsg(b\"\\x250338d348\", True)"
   ]
  },
  {
   "cell_type": "code",
   "execution_count": 27,
   "metadata": {},
   "outputs": [
    {
     "name": "stdout",
     "output_type": "stream",
     "text": [
      "b'\\x00@\\x00\\x00\\x00%\\x02ACCESS DENIED, WRONG CHALLENGE'\n"
     ]
    }
   ],
   "source": [
    "sendMsg(b'\\x40'*6, True)"
   ]
  },
  {
   "cell_type": "code",
   "execution_count": 29,
   "metadata": {
    "collapsed": true,
    "jupyter": {
     "outputs_hidden": true
    }
   },
   "outputs": [
    {
     "name": "stdout",
     "output_type": "stream",
     "text": [
      "b'\\x01*\\x00\\x00\\x00\"Invalid character in command\\x01*\\x00\\x00\\x00\\x17Command not found'\n",
      "i :  1  :  None\n",
      "b'\\x01*\\x00\\x00\\x00\"Invalid character in command'\n",
      "i :  2  :  None\n",
      "b'\\x01*\\x00\\x00\\x00\"Invalid character in command'\n",
      "i :  3  :  None\n",
      "b'\\x01*\\x00\\x00\\x00\"Invalid character in command'\n",
      "i :  4  :  None\n",
      "b'\\x01*\\x00\\x00\\x00\"Invalid character in command'\n",
      "i :  5  :  None\n",
      "b'\\x01*\\x00\\x00\\x00\"Invalid character in command'\n",
      "i :  6  :  None\n",
      "b'\\x01*\\x00\\x00\\x00\"Invalid character in command'\n",
      "i :  7  :  None\n",
      "b'\\x01*\\x00\\x00\\x00\"Invalid character in command'\n",
      "i :  8  :  None\n",
      "b'\\x01*\\x00\\x00\\x00\"Invalid character in command'\n",
      "i :  9  :  None\n",
      "b'\\x01*\\x00\\x00\\x00\"Invalid character in command'\n",
      "i :  10  :  None\n",
      "b'\\x01*\\x00\\x00\\x00\"Invalid character in command'\n",
      "i :  11  :  None\n",
      "b'\\x01*\\x00\\x00\\x00\"Invalid character in command'\n",
      "i :  12  :  None\n",
      "b'\\x01*\\x00\\x00\\x00\"Invalid character in command'\n",
      "i :  13  :  None\n",
      "b'\\x01*\\x00\\x00\\x00\"Invalid character in command'\n",
      "i :  14  :  None\n",
      "b'\\x01*\\x00\\x00\\x00\"Invalid character in command'\n",
      "i :  15  :  None\n",
      "b'\\x01*\\x00\\x00\\x00\"Invalid character in command'\n",
      "i :  16  :  None\n",
      "b'\\x01*\\x00\\x00\\x00\"Invalid character in command'\n",
      "i :  17  :  None\n",
      "b'\\x01*\\x00\\x00\\x00\"Invalid character in command'\n",
      "i :  18  :  None\n",
      "b'\\x01*\\x00\\x00\\x00\"Invalid character in command'\n",
      "i :  19  :  None\n",
      "b'\\x01*\\x00\\x00\\x00\"Invalid character in command'\n",
      "i :  20  :  None\n",
      "b'\\x01*\\x00\\x00\\x00\"Invalid character in command'\n",
      "i :  21  :  None\n",
      "b'\\x01*\\x00\\x00\\x00\"Invalid character in command'\n",
      "i :  22  :  None\n",
      "b'\\x01*\\x00\\x00\\x00\"Invalid character in command'\n",
      "i :  23  :  None\n",
      "b'\\x01*\\x00\\x00\\x00\"Invalid character in command'\n",
      "i :  24  :  None\n",
      "b'\\x01*\\x00\\x00\\x00\"Invalid character in command'\n",
      "i :  25  :  None\n",
      "b'\\x01*\\x00\\x00\\x00\"Invalid character in command'\n",
      "i :  26  :  None\n",
      "b'\\x01*\\x00\\x00\\x00\"Invalid character in command'\n",
      "i :  27  :  None\n",
      "b'\\x01*\\x00\\x00\\x00\"Invalid character in command'\n",
      "i :  28  :  None\n",
      "b'\\x01*\\x00\\x00\\x00\"Invalid character in command'\n",
      "i :  29  :  None\n",
      "b'\\x01*\\x00\\x00\\x00\"Invalid character in command'\n",
      "i :  30  :  None\n",
      "b'\\x01*\\x00\\x00\\x00\"Invalid character in command'\n",
      "i :  31  :  None\n",
      "b'\\x01*\\x00\\x00\\x00\"Invalid character in command'\n",
      "i :  32  :  None\n",
      "b'\\x01*\\x00\\x00\\x00\"Invalid character in command'\n",
      "i :  33  :  None\n",
      "b'\\x01*\\x00\\x00\\x00\"Invalid character in command'\n",
      "i :  34  :  None\n",
      "b'\\x01*\\x00\\x00\\x00\"Invalid character in command'\n",
      "i :  35  :  None\n",
      "b'\\x01*\\x00\\x00\\x00\"Invalid character in command'\n",
      "i :  36  :  None\n",
      "b'\\x01*\\x00\\x00\\x00\"Invalid character in command'\n",
      "i :  37  :  None\n",
      "b'\\x01*\\x00\\x00\\x00\"Invalid character in command'\n",
      "i :  38  :  None\n",
      "b'\\x01*\\x00\\x00\\x00\"Invalid character in command'\n",
      "i :  39  :  None\n",
      "b'\\x01*\\x00\\x00\\x00\"Invalid character in command'\n",
      "i :  40  :  None\n",
      "b'\\x01*\\x00\\x00\\x00\"Invalid character in command'\n",
      "i :  41  :  None\n",
      "b'\\x01*\\x00\\x00\\x00\"Invalid character in command'\n",
      "i :  42  :  None\n",
      "b'\\x01*\\x00\\x00\\x00\"Invalid character in command'\n",
      "i :  43  :  None\n",
      "b'\\x01*\\x00\\x00\\x00\"Invalid character in command'\n",
      "i :  44  :  None\n",
      "b'\\x01*\\x00\\x00\\x00\"Invalid character in command'\n",
      "i :  45  :  None\n",
      "b'\\x01*\\x00\\x00\\x00\"Invalid character in command'\n",
      "i :  46  :  None\n",
      "b'\\x01*\\x00\\x00\\x00\"Invalid character in command'\n",
      "i :  47  :  None\n",
      "b'\\x01*\\x00\\x00\\x00\"Invalid character in command'\n",
      "i :  48  :  None\n",
      "b'\\x01*\\x00\\x00\\x00\"Invalid character in command'\n",
      "i :  49  :  None\n",
      "b'\\x01*\\x00\\x00\\x00\"Invalid character in command'\n",
      "i :  50  :  None\n",
      "b'\\x01*\\x00\\x00\\x00\"Invalid character in command'\n",
      "i :  51  :  None\n",
      "b'\\x01*\\x00\\x00\\x00\"Invalid character in command'\n",
      "i :  52  :  None\n",
      "b'\\x01*\\x00\\x00\\x00\"Invalid character in command'\n",
      "i :  53  :  None\n",
      "b'\\x01*\\x00\\x00\\x00\"Invalid character in command'\n",
      "i :  54  :  None\n",
      "b'\\x01*\\x00\\x00\\x00\"Invalid character in command'\n",
      "i :  55  :  None\n",
      "b'\\x01*\\x00\\x00\\x00\"Invalid character in command'\n",
      "i :  56  :  None\n",
      "b'\\x01*\\x00\\x00\\x00\"Invalid character in command'\n",
      "i :  57  :  None\n",
      "b'\\x01*\\x00\\x00\\x00\"Invalid character in command'\n",
      "i :  58  :  None\n",
      "b'\\x01*\\x00\\x00\\x00\"Invalid character in command'\n",
      "i :  59  :  None\n",
      "b'\\x01*\\x00\\x00\\x00\"Invalid character in command'\n",
      "i :  60  :  None\n",
      "b'\\x01*\\x00\\x00\\x00\"Invalid character in command'\n",
      "i :  61  :  None\n",
      "b'\\x01*\\x00\\x00\\x00\"Invalid character in command'\n",
      "i :  62  :  None\n",
      "b'\\x01*\\x00\\x00\\x00\"Invalid character in command'\n",
      "i :  63  :  None\n",
      "b'\\x01*\\x00\\x00\\x00\"Invalid character in command'\n",
      "i :  64  :  None\n",
      "b'\\x01*\\x00\\x00\\x00\"Invalid character in command'\n",
      "i :  65  :  None\n",
      "b'\\x01*\\x00\\x00\\x00\"Invalid character in command'\n",
      "i :  66  :  None\n",
      "b'\\x01*\\x00\\x00\\x00\"Invalid character in command'\n",
      "i :  67  :  None\n",
      "b'\\x01*\\x00\\x00\\x00\"Invalid character in command'\n",
      "i :  68  :  None\n",
      "b'\\x01*\\x00\\x00\\x00\"Invalid character in command'\n",
      "i :  69  :  None\n",
      "b'\\x01*\\x00\\x00\\x00\"Invalid character in command'\n",
      "i :  70  :  None\n",
      "b'\\x01*\\x00\\x00\\x00\"Invalid character in command'\n",
      "i :  71  :  None\n",
      "b'\\x01*\\x00\\x00\\x00\"Invalid character in command'\n",
      "i :  72  :  None\n",
      "b'\\x01*\\x00\\x00\\x00\"Invalid character in command'\n",
      "i :  73  :  None\n",
      "b'\\x01*\\x00\\x00\\x00\"Invalid character in command'\n",
      "i :  74  :  None\n",
      "b'\\x01*\\x00\\x00\\x00\"Invalid character in command'\n",
      "i :  75  :  None\n",
      "b'\\x01*\\x00\\x00\\x00\"Invalid character in command'\n",
      "i :  76  :  None\n",
      "b'\\x01*\\x00\\x00\\x00\"Invalid character in command'\n",
      "i :  77  :  None\n",
      "b'\\x01*\\x00\\x00\\x00\"Invalid character in command'\n",
      "i :  78  :  None\n",
      "b'\\x01*\\x00\\x00\\x00\"Invalid character in command'\n",
      "i :  79  :  None\n",
      "b'\\x01*\\x00\\x00\\x00\"Invalid character in command'\n",
      "i :  80  :  None\n",
      "b'\\x01*\\x00\\x00\\x00\"Invalid character in command'\n",
      "i :  81  :  None\n",
      "b'\\x01*\\x00\\x00\\x00\"Invalid character in command'\n",
      "i :  82  :  None\n",
      "b'\\x01*\\x00\\x00\\x00\"Invalid character in command'\n",
      "i :  83  :  None\n",
      "b'\\x01*\\x00\\x00\\x00\"Invalid character in command'\n",
      "i :  84  :  None\n",
      "b'\\x01*\\x00\\x00\\x00\"Invalid character in command'\n",
      "i :  85  :  None\n",
      "b'\\x01*\\x00\\x00\\x00\"Invalid character in command'\n",
      "i :  86  :  None\n",
      "b'\\x01*\\x00\\x00\\x00\"Invalid character in command'\n",
      "i :  87  :  None\n",
      "b'\\x01*\\x00\\x00\\x00\"Invalid character in command'\n",
      "i :  88  :  None\n",
      "b'\\x01*\\x00\\x00\\x00\"Invalid character in command'\n",
      "i :  89  :  None\n",
      "b'\\x01*\\x00\\x00\\x00\"Invalid character in command'\n",
      "i :  90  :  None\n",
      "b'\\x01*\\x00\\x00\\x00\"Invalid character in command'\n",
      "i :  91  :  None\n",
      "b'\\x01*\\x00\\x00\\x00\"Invalid character in command'\n",
      "i :  92  :  None\n",
      "b'\\x01*\\x00\\x00\\x00\"Invalid character in command'\n",
      "i :  93  :  None\n",
      "b'\\x01*\\x00\\x00\\x00\"Invalid character in command'\n",
      "i :  94  :  None\n",
      "b'\\x01*\\x00\\x00\\x00\"Invalid character in command'\n",
      "i :  95  :  None\n",
      "b'\\x01*\\x00\\x00\\x00\"Invalid character in command'\n",
      "i :  96  :  None\n",
      "b'\\x01*\\x00\\x00\\x00\"Invalid character in command'\n",
      "i :  97  :  None\n",
      "b'\\x01*\\x00\\x00\\x00\"Invalid character in command'\n",
      "i :  98  :  None\n",
      "b'\\x01*\\x00\\x00\\x00\"Invalid character in command'\n",
      "i :  99  :  None\n",
      "b'\\x01*\\x00\\x00\\x00\"Invalid character in command'\n",
      "i :  100  :  None\n",
      "b'\\x01*\\x00\\x00\\x00\"Invalid character in command'\n",
      "i :  101  :  None\n",
      "b'\\x01*\\x00\\x00\\x00\"Invalid character in command'\n",
      "i :  102  :  None\n",
      "b'\\x01*\\x00\\x00\\x00\"Invalid character in command'\n",
      "i :  103  :  None\n",
      "b'\\x01*\\x00\\x00\\x00\"Invalid character in command'\n",
      "i :  104  :  None\n",
      "b'\\x01*\\x00\\x00\\x00\"Invalid character in command'\n",
      "i :  105  :  None\n",
      "b'\\x01*\\x00\\x00\\x00\"Invalid character in command'\n",
      "i :  106  :  None\n",
      "b'\\x01*\\x00\\x00\\x00\"Invalid character in command'\n",
      "i :  107  :  None\n",
      "b'\\x01*\\x00\\x00\\x00\"Invalid character in command'\n",
      "i :  108  :  None\n",
      "b'\\x01*\\x00\\x00\\x00\"Invalid character in command'\n",
      "i :  109  :  None\n",
      "b'\\x01*\\x00\\x00\\x00\"Invalid character in command'\n",
      "i :  110  :  None\n",
      "b'\\x01*\\x00\\x00\\x00\"Invalid character in command'\n",
      "i :  111  :  None\n",
      "b'\\x01*\\x00\\x00\\x00\"Invalid character in command'\n",
      "i :  112  :  None\n",
      "b'\\x01*\\x00\\x00\\x00\"Invalid character in command'\n",
      "i :  113  :  None\n",
      "b'\\x01*\\x00\\x00\\x00\"Invalid character in command'\n",
      "i :  114  :  None\n",
      "b'\\x01*\\x00\\x00\\x00\"Invalid character in command'\n",
      "i :  115  :  None\n",
      "b'\\x01*\\x00\\x00\\x00\"Invalid character in command'\n",
      "i :  116  :  None\n",
      "b'\\x01*\\x00\\x00\\x00\"Invalid character in command'\n",
      "i :  117  :  None\n",
      "b'\\x01*\\x00\\x00\\x00\"Invalid character in command'\n",
      "i :  118  :  None\n",
      "b'\\x01*\\x00\\x00\\x00\"Invalid character in command'\n",
      "i :  119  :  None\n",
      "b'\\x01*\\x00\\x00\\x00\"Invalid character in command'\n",
      "i :  120  :  None\n",
      "b'\\x01*\\x00\\x00\\x00\"Invalid character in command'\n",
      "i :  121  :  None\n",
      "b'\\x01*\\x00\\x00\\x00\"Invalid character in command'\n",
      "i :  122  :  None\n",
      "b'\\x01*\\x00\\x00\\x00\"Invalid character in command'\n",
      "i :  123  :  None\n",
      "b'\\x01*\\x00\\x00\\x00\"Invalid character in command'\n",
      "i :  124  :  None\n",
      "b'\\x01*\\x00\\x00\\x00\"Invalid character in command'\n",
      "i :  125  :  None\n",
      "b'\\x01*\\x00\\x00\\x00\"Invalid character in command'\n",
      "i :  126  :  None\n",
      "b'\\x01*\\x00\\x00\\x00\"Invalid character in command'\n",
      "i :  127  :  None\n",
      "b'\\x01*\\x00\\x00\\x00\"Invalid character in command'\n",
      "i :  128  :  None\n",
      "b'\\x01*\\x00\\x00\\x00\"Invalid character in command'\n",
      "i :  129  :  None\n",
      "b'\\x01*\\x00\\x00\\x00\"Invalid character in command'\n",
      "i :  130  :  None\n",
      "b'\\x01*\\x00\\x00\\x00\"Invalid character in command'\n",
      "i :  131  :  None\n",
      "b'\\x01*\\x00\\x00\\x00\"Invalid character in command'\n",
      "i :  132  :  None\n",
      "b'\\x01*\\x00\\x00\\x00\"Invalid character in command'\n",
      "i :  133  :  None\n",
      "b'\\x01*\\x00\\x00\\x00\"Invalid character in command'\n",
      "i :  134  :  None\n",
      "b'\\x01*\\x00\\x00\\x00\"Invalid character in command'\n",
      "i :  135  :  None\n",
      "b'\\x01*\\x00\\x00\\x00\"Invalid character in command'\n",
      "i :  136  :  None\n",
      "b'\\x01*\\x00\\x00\\x00\"Invalid character in command'\n",
      "i :  137  :  None\n",
      "b'\\x01*\\x00\\x00\\x00\"Invalid character in command'\n",
      "i :  138  :  None\n",
      "b'\\x01*\\x00\\x00\\x00\"Invalid character in command'\n",
      "i :  139  :  None\n",
      "b'\\x01*\\x00\\x00\\x00\"Invalid character in command'\n",
      "i :  140  :  None\n",
      "b'\\x01*\\x00\\x00\\x00\"Invalid character in command'\n",
      "i :  141  :  None\n",
      "b'\\x01*\\x00\\x00\\x00\"Invalid character in command'\n",
      "i :  142  :  None\n",
      "b'\\x01*\\x00\\x00\\x00\"Invalid character in command'\n",
      "i :  143  :  None\n",
      "b'\\x01*\\x00\\x00\\x00\"Invalid character in command'\n",
      "i :  144  :  None\n",
      "b'\\x01*\\x00\\x00\\x00\"Invalid character in command'\n",
      "i :  145  :  None\n",
      "b'\\x01*\\x00\\x00\\x00\"Invalid character in command'\n",
      "i :  146  :  None\n",
      "b'\\x01*\\x00\\x00\\x00\"Invalid character in command'\n",
      "i :  147  :  None\n",
      "b'\\x01*\\x00\\x00\\x00\"Invalid character in command'\n",
      "i :  148  :  None\n",
      "b'\\x01*\\x00\\x00\\x00\"Invalid character in command'\n",
      "i :  149  :  None\n",
      "b'\\x01*\\x00\\x00\\x00\"Invalid character in command'\n",
      "i :  150  :  None\n"
     ]
    }
   ],
   "source": [
    "for i in range(1,151):\n",
    "#     sendMsg(\"\\x25\"*i)\n",
    "    print (\"i : \",i,\" : \",sendMsg(b'\\x2a'*i, True))"
   ]
  },
  {
   "cell_type": "code",
   "execution_count": 217,
   "metadata": {},
   "outputs": [
    {
     "name": "stdout",
     "output_type": "stream",
     "text": [
      "b'\\xac'  :  b'\\x00\\xac\\x00\\x00\\x00\\x18\\x04BAD PACKET LENGTH'\n"
     ]
    }
   ],
   "source": [
    "val = 172\n",
    "sendMsg(val.to_bytes(1,'little'), True)\n"
   ]
  },
  {
   "cell_type": "code",
   "execution_count": 222,
   "metadata": {},
   "outputs": [
    {
     "name": "stdout",
     "output_type": "stream",
     "text": [
      "b'\\xac\\xac'  :  b'\\x00\\xac\\x00\\x00\\x00\\x18\\x04BAD PACKET LENGTH'\n"
     ]
    }
   ],
   "source": []
  },
  {
   "cell_type": "code",
   "execution_count": 255,
   "metadata": {},
   "outputs": [
    {
     "name": "stdout",
     "output_type": "stream",
     "text": [
      "b'\\x00\\xac\\x00\\x00\\x00\\x1b\\x08INVALID STAMP BUFFER'\n"
     ]
    }
   ],
   "source": [
    "sendMsg(b'\\xac'*129, True)"
   ]
  },
  {
   "cell_type": "code",
   "execution_count": 244,
   "metadata": {},
   "outputs": [
    {
     "name": "stdout",
     "output_type": "stream",
     "text": [
      "b'\\x00\\xac\\x00\\x00\\x00\\x18\\x04BAD PACKET LENGTH'\n"
     ]
    }
   ],
   "source": [
    "sendMsg(b'\\xac'*12, True)"
   ]
  },
  {
   "cell_type": "code",
   "execution_count": 254,
   "metadata": {},
   "outputs": [
    {
     "name": "stdout",
     "output_type": "stream",
     "text": [
      "b'\\x01\\x01\\x00\\x00\\x00\\necho'\n"
     ]
    }
   ],
   "source": [
    "sendMsg(\"\\x01echo\")"
   ]
  },
  {
   "cell_type": "code",
   "execution_count": 256,
   "metadata": {},
   "outputs": [
    {
     "ename": "TypeError",
     "evalue": "'str' object cannot be interpreted as an integer",
     "output_type": "error",
     "traceback": [
      "\u001b[0;31m---------------------------------------------------------------------------\u001b[0m",
      "\u001b[0;31mTypeError\u001b[0m                                 Traceback (most recent call last)",
      "\u001b[0;32m<ipython-input-256-a8f4a415251a>\u001b[0m in \u001b[0;36m<module>\u001b[0;34m\u001b[0m\n\u001b[0;32m----> 1\u001b[0;31m \u001b[0mhex\u001b[0m\u001b[0;34m(\u001b[0m\u001b[0;34m\"Secret Stamp\"\u001b[0m\u001b[0;34m)\u001b[0m\u001b[0;34m\u001b[0m\u001b[0;34m\u001b[0m\u001b[0m\n\u001b[0m",
      "\u001b[0;31mTypeError\u001b[0m: 'str' object cannot be interpreted as an integer"
     ]
    }
   ],
   "source": [
    "(\"Secret Stamp\")"
   ]
  },
  {
   "cell_type": "code",
   "execution_count": 257,
   "metadata": {},
   "outputs": [
    {
     "data": {
      "text/plain": [
       "124"
      ]
     },
     "execution_count": 257,
     "metadata": {},
     "output_type": "execute_result"
    }
   ],
   "source": [
    "31*4"
   ]
  },
  {
   "cell_type": "code",
   "execution_count": 265,
   "metadata": {},
   "outputs": [
    {
     "data": {
      "text/plain": [
       "b'Se'"
      ]
     },
     "execution_count": 265,
     "metadata": {},
     "output_type": "execute_result"
    }
   ],
   "source": [
    "b'\\x53\\x65'"
   ]
  },
  {
   "cell_type": "code",
   "execution_count": 266,
   "metadata": {},
   "outputs": [],
   "source": [
    "stamp = \"6553 7263 7465 5320 6174 706d 3a20 203a\\\n",
    "a301 d3ed 4f84 5b8f 2c04 60d0 1d15 1cea\\\n",
    "c6ad 902d 9258 b173 9471 a55e b838 fa31\\\n",
    "c66e 0019 ad19 7e52 2c99 5fa2 6dc2 d225\\\n",
    "0f04 eb97 b4a5 c4d0 65ab e97c 00c4 46ff\\\n",
    "3bac eff0 7add 8659 8ae2 e819 225b 155d\\\n",
    "c3c7 bfec ab02 8c73 dc9c 4dbe 2b14 b947\\\n",
    "a015 a1e6 8b47 1c72 97f2 d763 60b0 bee0\\\n",
    "7a0c ee10 f4bb 30b8 e7b3 2687 618b 37c5\\\n",
    "a8ae 870a d54d 625a f4da df26 204e 8254\\\n",
    "32d7 20bb be60 0a22 52f3 791d 2de6 0d53\\\n",
    "f870 9e13 0fad ef26 a0d3 70b1 541f a4ae\\\n",
    "557f eb6b 486d 7b8a b159 a655 633b 7b94\\\n",
    "15a5 6841 76af ebd6 0f77 5310 77ca 8329\\\n",
    "ad86 d782 5836 8e4c bb4b f7c9 3c51 29f4\\\n",
    "7e85 cda5 0648 b0cd 1525 9316 561f d740\\\n",
    "82ec 0f9d dd3c 15ab 94d3 5552 9778 6512\\\n",
    "7717 f347 2cdd 4d7e\""
   ]
  },
  {
   "cell_type": "code",
   "execution_count": 268,
   "metadata": {},
   "outputs": [
    {
     "data": {
      "text/plain": [
       "682"
      ]
     },
     "execution_count": 268,
     "metadata": {},
     "output_type": "execute_result"
    }
   ],
   "source": [
    "len(stamp)"
   ]
  },
  {
   "cell_type": "code",
   "execution_count": 269,
   "metadata": {},
   "outputs": [
    {
     "data": {
      "text/plain": [
       "114"
      ]
     },
     "execution_count": 269,
     "metadata": {},
     "output_type": "execute_result"
    }
   ],
   "source": [
    "154-40"
   ]
  },
  {
   "cell_type": "code",
   "execution_count": 274,
   "metadata": {},
   "outputs": [
    {
     "data": {
      "text/plain": [
       "b'\\xac\\xac\\xac\\xac\\xac\\xac\\xac\\xac\\xac\\xac\\xac\\xac\\xac\\xac\\xac\\xac\\xac\\xac\\xac\\xac\\xac\\xac\\xac\\xac\\xac\\xac\\xac\\xac\\xac\\xac\\xac\\xac\\xac\\xac\\xac\\xac\\xac\\xac\\xac\\xac\\xac\\xac\\xac\\xac\\xac\\xac\\xac\\xac\\xac\\xac\\xac\\xac\\xac\\xac\\xac\\xac\\xac\\xac\\xac\\xac\\xac'"
      ]
     },
     "execution_count": 274,
     "metadata": {},
     "output_type": "execute_result"
    }
   ],
   "source": [
    "b\"\\xac\"*61"
   ]
  },
  {
   "cell_type": "code",
   "execution_count": 306,
   "metadata": {},
   "outputs": [],
   "source": [
    "test = b'\\xac\\x11\\x11\\x02\\x03\\x04\\x05\\x06\\x07\\x00\\x00\\x00\\x00\\x12\\x13\\x14\\x16\\x17\\x18\\xac\\xac\\xac\\xac\\xac\\xac\\xac\\xac\\xac\\xac\\xac\\xac\\xac\\xac\\xac\\xac\\xac\\xac\\xac\\xac\\xac\\xac\\xac\\xac\\xac\\xac\\xac\\xac\\xac\\xac\\xac\\xac\\xac\\xac\\xac\\xac\\xac\\xac\\xac\\xac\\xac\\xac\\xac\\xac\\xac\\xac\\xac\\xac\\xac\\xac\\xac\\xac\\xac\\xac\\xac\\xac\\xac\\xac\\xac\\xac\\xac\\xac\\xac\\xac\\xac\\xac\\xac\\xac\\xac\\xac\\xac\\xac\\xac\\xac\\xac\\xac\\xac\\xac\\xac\\xac\\xac\\xac\\xac\\xac\\xac\\xac\\xac\\xac\\xac\\xac\\xac\\xac\\xac\\xac\\x00\\x00\\x00\\x00\\x00\\x00\\x00\\x00\\x00\\x00\\x00\\x00\\x00\\x00\\x00\\x00'"
   ]
  },
  {
   "cell_type": "code",
   "execution_count": 307,
   "metadata": {},
   "outputs": [
    {
     "name": "stdout",
     "output_type": "stream",
     "text": [
      "b'\\x00\\xac\\x00\\x00\\x00\\x1b\\x08INVALID STAMP BUFFER'\n"
     ]
    }
   ],
   "source": [
    "sendMsg(test, True)"
   ]
  },
  {
   "cell_type": "code",
   "execution_count": 374,
   "metadata": {},
   "outputs": [],
   "source": [
    "testbis = b'\\xac\\x11\\x06\\x05\\x04\\x03\\x02\\x00\\x11\\x01\\x01\\x01\\x01\\x12\\x13\\x14\\x16\\x17\\x18\\xac\\xac\\xac\\xac\\xac\\xac\\xac\\xac\\xac\\xac\\xac\\xac\\xac\\xac\\xac\\xac\\xac\\xac\\xac\\xac\\xac\\xac\\xac\\xac\\xac\\xac\\xac\\xac\\xac\\xac\\xac\\xac\\xac\\xac\\xac\\xac\\xac\\xac\\xac\\xac\\xac\\xac\\xac\\xac\\xac\\xac\\xac\\xac\\xac\\xac\\xac\\xac\\xac\\xac\\xac\\xac\\xac\\xac\\xac\\xac\\xac\\xac\\xac\\xac\\x00\\x00\\x00\\x00\\x00\\x00\\x00\\x00\\x00\\x00\\x00\\x00\\x00\\x00\\x00\\x00\\x00\\x00\\x00\\x00\\x00\\x00\\x00\\x00\\x00\\x00\\x00\\x00\\x00\\x00\\x00\\x00\\x00\\x00\\x00\\x00\\x00\\x00\\x00\\x00\\x00\\x00\\x00\\x00\\x00\\x00'"
   ]
  },
  {
   "cell_type": "code",
   "execution_count": 375,
   "metadata": {},
   "outputs": [
    {
     "name": "stdout",
     "output_type": "stream",
     "text": [
      "b'\\x00\\xac\\x00\\x00\\x00\\x1b\\x08INVALID STAMP BUFFER'\n"
     ]
    }
   ],
   "source": [
    "sendMsg(testbis, True)"
   ]
  },
  {
   "cell_type": "code",
   "execution_count": 310,
   "metadata": {},
   "outputs": [
    {
     "data": {
      "text/plain": [
       "14"
      ]
     },
     "execution_count": 310,
     "metadata": {},
     "output_type": "execute_result"
    }
   ],
   "source": [
    "ret = \"10203045060708\"\n",
    "len(ret)"
   ]
  },
  {
   "cell_type": "code",
   "execution_count": 278,
   "metadata": {},
   "outputs": [
    {
     "data": {
      "text/plain": [
       "16"
      ]
     },
     "execution_count": 278,
     "metadata": {},
     "output_type": "execute_result"
    }
   ],
   "source": [
    "ret = \"acacacacacacacac\"\n",
    "len(ret)"
   ]
  },
  {
   "cell_type": "code",
   "execution_count": 294,
   "metadata": {},
   "outputs": [
    {
     "name": "stdout",
     "output_type": "stream",
     "text": [
      "b'\\x01\\x01\\x00\\x00\\x00\\n%x%s'\n"
     ]
    }
   ],
   "source": [
    "sendMsg(b'\\x01%x%s', True)"
   ]
  },
  {
   "cell_type": "code",
   "execution_count": 323,
   "metadata": {},
   "outputs": [
    {
     "data": {
      "text/plain": [
       "9"
      ]
     },
     "execution_count": 323,
     "metadata": {},
     "output_type": "execute_result"
    }
   ],
   "source": [
    "ret = \"110000000\"\n",
    "len(ret)"
   ]
  },
  {
   "cell_type": "code",
   "execution_count": 13,
   "metadata": {},
   "outputs": [
    {
     "data": {
      "text/plain": [
       "1193.0464711111113"
      ]
     },
     "execution_count": 13,
     "metadata": {},
     "output_type": "execute_result"
    }
   ],
   "source": [
    "16**8 / 1000 / 60 / 60"
   ]
  },
  {
   "cell_type": "code",
   "execution_count": 14,
   "metadata": {},
   "outputs": [
    {
     "data": {
      "text/plain": [
       "4294967296"
      ]
     },
     "execution_count": 14,
     "metadata": {},
     "output_type": "execute_result"
    }
   ],
   "source": [
    "16 ** 8"
   ]
  },
  {
   "cell_type": "code",
   "execution_count": null,
   "metadata": {},
   "outputs": [],
   "source": []
  }
 ],
 "metadata": {
  "kernelspec": {
   "display_name": "Python 3",
   "language": "python",
   "name": "python3"
  },
  "language_info": {
   "codemirror_mode": {
    "name": "ipython",
    "version": 3
   },
   "file_extension": ".py",
   "mimetype": "text/x-python",
   "name": "python",
   "nbconvert_exporter": "python",
   "pygments_lexer": "ipython3",
   "version": "3.9.1"
  }
 },
 "nbformat": 4,
 "nbformat_minor": 4
}
